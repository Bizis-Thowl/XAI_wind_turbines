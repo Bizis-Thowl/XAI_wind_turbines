{
 "cells": [
  {
   "cell_type": "code",
   "execution_count": 4,
   "metadata": {},
   "outputs": [],
   "source": [
    "import pandas as pd\n",
    "import numpy as np\n",
    "import matplotlib.pyplot as plt\n",
    "from sklearn.tree import DecisionTreeClassifier\n",
    "from sklearn.metrics import f1_score, precision_score, recall_score, roc_auc_score\n",
    "from sklearn.model_selection import GridSearchCV\n",
    "from sklearn.base import BaseEstimator, TransformerMixin\n",
    "from sklearn.pipeline import Pipeline\n",
    "from sklearn.preprocessing import LabelEncoder\n",
    "from sklearn.compose import ColumnTransformer\n",
    "import scipy"
   ]
  },
  {
   "cell_type": "code",
   "execution_count": 5,
   "metadata": {},
   "outputs": [],
   "source": [
    "train = pd.read_csv(\"./data/multi/train_hydraulic.csv\", sep=\",\")\n",
    "test = pd.read_csv(\"./data/multi/test_hydraulic.csv\", sep=\",\")"
   ]
  },
  {
   "cell_type": "code",
   "execution_count": 6,
   "metadata": {},
   "outputs": [
    {
     "data": {
      "text/html": [
       "<div>\n",
       "<style scoped>\n",
       "    .dataframe tbody tr th:only-of-type {\n",
       "        vertical-align: middle;\n",
       "    }\n",
       "\n",
       "    .dataframe tbody tr th {\n",
       "        vertical-align: top;\n",
       "    }\n",
       "\n",
       "    .dataframe thead th {\n",
       "        text-align: right;\n",
       "    }\n",
       "</style>\n",
       "<table border=\"1\" class=\"dataframe\">\n",
       "  <thead>\n",
       "    <tr style=\"text-align: right;\">\n",
       "      <th></th>\n",
       "      <th>Unnamed: 0</th>\n",
       "      <th>Turbine_ID</th>\n",
       "      <th>Timestamp</th>\n",
       "      <th>Gen_RPM_Max</th>\n",
       "      <th>Gen_RPM_Min</th>\n",
       "      <th>Gen_RPM_Avg</th>\n",
       "      <th>Gen_RPM_Std</th>\n",
       "      <th>Gen_Bear_Temp_Avg</th>\n",
       "      <th>Gen_Phase1_Temp_Avg</th>\n",
       "      <th>Gen_Phase2_Temp_Avg</th>\n",
       "      <th>...</th>\n",
       "      <th>Max_Humidity</th>\n",
       "      <th>Avg_Humidity</th>\n",
       "      <th>Min_Precipitation</th>\n",
       "      <th>Max_Precipitation</th>\n",
       "      <th>Avg_Precipitation</th>\n",
       "      <th>Max_Raindetection</th>\n",
       "      <th>Anemometer1_Avg_Freq</th>\n",
       "      <th>Anemometer2_Avg_Freq</th>\n",
       "      <th>Pressure_Avg_Freq</th>\n",
       "      <th>Risk Level</th>\n",
       "    </tr>\n",
       "  </thead>\n",
       "  <tbody>\n",
       "    <tr>\n",
       "      <th>0</th>\n",
       "      <td>0</td>\n",
       "      <td>T06</td>\n",
       "      <td>2016-01-01T00:00:00+00:00</td>\n",
       "      <td>1270.0</td>\n",
       "      <td>1232.8</td>\n",
       "      <td>1248.5</td>\n",
       "      <td>6.8</td>\n",
       "      <td>42.0</td>\n",
       "      <td>51</td>\n",
       "      <td>52</td>\n",
       "      <td>...</td>\n",
       "      <td>92.0</td>\n",
       "      <td>90.0</td>\n",
       "      <td>0.0</td>\n",
       "      <td>0.0</td>\n",
       "      <td>0.0</td>\n",
       "      <td>0.0</td>\n",
       "      <td>98.0</td>\n",
       "      <td>99.0</td>\n",
       "      <td>418.0</td>\n",
       "      <td>med-high</td>\n",
       "    </tr>\n",
       "    <tr>\n",
       "      <th>1</th>\n",
       "      <td>1</td>\n",
       "      <td>T06</td>\n",
       "      <td>2016-01-01T00:10:00+00:00</td>\n",
       "      <td>1429.7</td>\n",
       "      <td>203.9</td>\n",
       "      <td>1154.1</td>\n",
       "      <td>271.7</td>\n",
       "      <td>42.0</td>\n",
       "      <td>51</td>\n",
       "      <td>52</td>\n",
       "      <td>...</td>\n",
       "      <td>90.0</td>\n",
       "      <td>87.0</td>\n",
       "      <td>0.0</td>\n",
       "      <td>0.0</td>\n",
       "      <td>0.0</td>\n",
       "      <td>0.0</td>\n",
       "      <td>99.0</td>\n",
       "      <td>101.0</td>\n",
       "      <td>418.0</td>\n",
       "      <td>med-high</td>\n",
       "    </tr>\n",
       "    <tr>\n",
       "      <th>2</th>\n",
       "      <td>2</td>\n",
       "      <td>T06</td>\n",
       "      <td>2016-01-01T00:20:00+00:00</td>\n",
       "      <td>1360.5</td>\n",
       "      <td>250.3</td>\n",
       "      <td>1041.4</td>\n",
       "      <td>382.7</td>\n",
       "      <td>42.0</td>\n",
       "      <td>50</td>\n",
       "      <td>51</td>\n",
       "      <td>...</td>\n",
       "      <td>91.0</td>\n",
       "      <td>90.0</td>\n",
       "      <td>0.0</td>\n",
       "      <td>0.0</td>\n",
       "      <td>0.0</td>\n",
       "      <td>0.0</td>\n",
       "      <td>111.0</td>\n",
       "      <td>113.0</td>\n",
       "      <td>418.0</td>\n",
       "      <td>med-high</td>\n",
       "    </tr>\n",
       "    <tr>\n",
       "      <th>3</th>\n",
       "      <td>3</td>\n",
       "      <td>T06</td>\n",
       "      <td>2016-01-01T00:30:00+00:00</td>\n",
       "      <td>1399.2</td>\n",
       "      <td>1228.8</td>\n",
       "      <td>1252.5</td>\n",
       "      <td>16.5</td>\n",
       "      <td>42.0</td>\n",
       "      <td>49</td>\n",
       "      <td>50</td>\n",
       "      <td>...</td>\n",
       "      <td>90.0</td>\n",
       "      <td>90.0</td>\n",
       "      <td>0.0</td>\n",
       "      <td>0.0</td>\n",
       "      <td>0.0</td>\n",
       "      <td>0.0</td>\n",
       "      <td>122.0</td>\n",
       "      <td>125.0</td>\n",
       "      <td>418.0</td>\n",
       "      <td>med-high</td>\n",
       "    </tr>\n",
       "    <tr>\n",
       "      <th>4</th>\n",
       "      <td>4</td>\n",
       "      <td>T06</td>\n",
       "      <td>2016-01-01T00:40:00+00:00</td>\n",
       "      <td>1302.7</td>\n",
       "      <td>1225.1</td>\n",
       "      <td>1257.6</td>\n",
       "      <td>13.4</td>\n",
       "      <td>41.0</td>\n",
       "      <td>50</td>\n",
       "      <td>50</td>\n",
       "      <td>...</td>\n",
       "      <td>91.0</td>\n",
       "      <td>90.0</td>\n",
       "      <td>0.0</td>\n",
       "      <td>0.0</td>\n",
       "      <td>0.0</td>\n",
       "      <td>0.0</td>\n",
       "      <td>121.0</td>\n",
       "      <td>123.0</td>\n",
       "      <td>417.0</td>\n",
       "      <td>med-high</td>\n",
       "    </tr>\n",
       "  </tbody>\n",
       "</table>\n",
       "<p>5 rows × 108 columns</p>\n",
       "</div>"
      ],
      "text/plain": [
       "   Unnamed: 0 Turbine_ID                  Timestamp  Gen_RPM_Max  Gen_RPM_Min  \\\n",
       "0           0        T06  2016-01-01T00:00:00+00:00       1270.0       1232.8   \n",
       "1           1        T06  2016-01-01T00:10:00+00:00       1429.7        203.9   \n",
       "2           2        T06  2016-01-01T00:20:00+00:00       1360.5        250.3   \n",
       "3           3        T06  2016-01-01T00:30:00+00:00       1399.2       1228.8   \n",
       "4           4        T06  2016-01-01T00:40:00+00:00       1302.7       1225.1   \n",
       "\n",
       "   Gen_RPM_Avg  Gen_RPM_Std  Gen_Bear_Temp_Avg  Gen_Phase1_Temp_Avg  \\\n",
       "0       1248.5          6.8               42.0                   51   \n",
       "1       1154.1        271.7               42.0                   51   \n",
       "2       1041.4        382.7               42.0                   50   \n",
       "3       1252.5         16.5               42.0                   49   \n",
       "4       1257.6         13.4               41.0                   50   \n",
       "\n",
       "   Gen_Phase2_Temp_Avg  ...  Max_Humidity  Avg_Humidity  Min_Precipitation  \\\n",
       "0                   52  ...          92.0          90.0                0.0   \n",
       "1                   52  ...          90.0          87.0                0.0   \n",
       "2                   51  ...          91.0          90.0                0.0   \n",
       "3                   50  ...          90.0          90.0                0.0   \n",
       "4                   50  ...          91.0          90.0                0.0   \n",
       "\n",
       "   Max_Precipitation  Avg_Precipitation  Max_Raindetection  \\\n",
       "0                0.0                0.0                0.0   \n",
       "1                0.0                0.0                0.0   \n",
       "2                0.0                0.0                0.0   \n",
       "3                0.0                0.0                0.0   \n",
       "4                0.0                0.0                0.0   \n",
       "\n",
       "   Anemometer1_Avg_Freq  Anemometer2_Avg_Freq  Pressure_Avg_Freq  Risk Level  \n",
       "0                  98.0                  99.0              418.0    med-high  \n",
       "1                  99.0                 101.0              418.0    med-high  \n",
       "2                 111.0                 113.0              418.0    med-high  \n",
       "3                 122.0                 125.0              418.0    med-high  \n",
       "4                 121.0                 123.0              417.0    med-high  \n",
       "\n",
       "[5 rows x 108 columns]"
      ]
     },
     "execution_count": 6,
     "metadata": {},
     "output_type": "execute_result"
    }
   ],
   "source": [
    "train.head()"
   ]
  },
  {
   "cell_type": "code",
   "execution_count": 7,
   "metadata": {},
   "outputs": [],
   "source": [
    "class_target_name = \"Risk Level\"\n",
    "drop_cols = [class_target_name, \"Turbine_ID\", \"Timestamp\", \"Unnamed: 0\"]"
   ]
  },
  {
   "cell_type": "code",
   "execution_count": 8,
   "metadata": {},
   "outputs": [
    {
     "name": "stdout",
     "output_type": "stream",
     "text": [
      "\n",
      "Test unbalanced:\n",
      "\n",
      "low         134857\n",
      "low-med       8477\n",
      "medium        6839\n",
      "med-high      4318\n",
      "high          2940\n",
      "Name: Risk Level, dtype: int64\n",
      "\n",
      "Train unbalanced:\n"
     ]
    },
    {
     "data": {
      "text/plain": [
       "low         221500\n",
       "medium       10406\n",
       "high         10001\n",
       "med-high      9316\n",
       "low-med       8487\n",
       "Name: Risk Level, dtype: int64"
      ]
     },
     "execution_count": 8,
     "metadata": {},
     "output_type": "execute_result"
    }
   ],
   "source": [
    "print(\"\\nTest unbalanced:\\n\")\n",
    "print(test[class_target_name].value_counts())\n",
    "print(\"\\nTrain unbalanced:\")\n",
    "train[class_target_name].value_counts()"
   ]
  },
  {
   "cell_type": "code",
   "execution_count": 9,
   "metadata": {},
   "outputs": [],
   "source": [
    "test_balanced = test.drop(test[test[class_target_name] == \"low\"].sample(n=126000).index)\n",
    "train_balanced = train.drop(train[train[class_target_name] == \"low\"].sample(n=211000).index)"
   ]
  },
  {
   "cell_type": "code",
   "execution_count": 10,
   "metadata": {},
   "outputs": [
    {
     "name": "stdout",
     "output_type": "stream",
     "text": [
      "\n",
      "Test balanced:\n",
      "\n",
      "low         8857\n",
      "low-med     8477\n",
      "medium      6839\n",
      "med-high    4318\n",
      "high        2940\n",
      "Name: Risk Level, dtype: int64\n",
      "\n",
      "Train balanced:\n"
     ]
    },
    {
     "data": {
      "text/plain": [
       "low         10500\n",
       "medium      10406\n",
       "high        10001\n",
       "med-high     9316\n",
       "low-med      8487\n",
       "Name: Risk Level, dtype: int64"
      ]
     },
     "execution_count": 10,
     "metadata": {},
     "output_type": "execute_result"
    }
   ],
   "source": [
    "print(\"\\nTest balanced:\\n\")\n",
    "print(test_balanced[class_target_name].value_counts())\n",
    "print(\"\\nTrain balanced:\")\n",
    "train_balanced[class_target_name].value_counts()"
   ]
  },
  {
   "cell_type": "code",
   "execution_count": 11,
   "metadata": {},
   "outputs": [
    {
     "data": {
      "text/plain": [
       "511698"
      ]
     },
     "execution_count": 11,
     "metadata": {},
     "output_type": "execute_result"
    }
   ],
   "source": [
    "test.isna().sum().sum()"
   ]
  },
  {
   "cell_type": "code",
   "execution_count": 12,
   "metadata": {},
   "outputs": [],
   "source": [
    "class FillMethod():\n",
    "\n",
    "    def __init__(self, train: pd.DataFrame, test: pd.DataFrame, method: str) -> None:\n",
    "        self.method = method\n",
    "        if method == \"median\":\n",
    "            self.train = train.fillna(train.median())\n",
    "            self.test = test.fillna(test.median())\n",
    "        else:\n",
    "            self.train = self._handleValueError(train, method)\n",
    "            self.test = self._handleValueError(test, method)\n",
    "\n",
    "        self._downsample()\n",
    "\n",
    "    def _downsample(self):\n",
    "        self.test = self.test.drop(self.test[self.test[class_target_name] == \"low\"].sample(n=126000).index).dropna().sample(frac=1)\n",
    "        self.train = self.train.drop(self.train[self.train[class_target_name] == \"low\"].sample(n=211000).index).dropna().sample(frac=1)\n",
    "\n",
    "    def _handleValueError(self, in_data: pd.DataFrame, method: str) -> None:\n",
    "        out_data = in_data.fillna(method=method)\n",
    "        if out_data.isna().sum().sum():\n",
    "            if method == \"ffill\":\n",
    "                out_data = in_data.fillna(method=\"bfill\")\n",
    "            else: \n",
    "                out_data = in_data.fillna(method=\"ffill\")\n",
    "        if out_data.isna().sum().sum():\n",
    "            out_data = in_data.fillna(in_data.median())\n",
    "\n",
    "        return out_data\n",
    "\n",
    "    def get_train_x(self) -> pd.DataFrame:\n",
    "        return self.train.drop(columns=drop_cols)\n",
    "\n",
    "    def get_train_y(self) -> pd.DataFrame:\n",
    "        return self.train[class_target_name]\n",
    "\n",
    "    def get_test_x(self) -> pd.DataFrame:\n",
    "        return self.test.drop(columns=drop_cols)\n",
    "\n",
    "    def get_test_y(self) -> pd.DataFrame:\n",
    "        return self.test[class_target_name]\n",
    "\n",
    "    def get_method(self) -> str:\n",
    "        return self.method"
   ]
  },
  {
   "cell_type": "code",
   "execution_count": 13,
   "metadata": {},
   "outputs": [],
   "source": [
    "fill_methods = [\"median\", \"ffill\", \"bfill\"]\n",
    "fillers = []\n",
    "for method in fill_methods:\n",
    "    fillers.append(FillMethod(train, test, method))"
   ]
  },
  {
   "cell_type": "code",
   "execution_count": 14,
   "metadata": {},
   "outputs": [
    {
     "name": "stdout",
     "output_type": "stream",
     "text": [
      "(48710, 108)\n",
      "(31431, 108)\n",
      "0\n",
      "0\n",
      "median\n",
      "(48710, 108)\n",
      "(31431, 108)\n",
      "0\n",
      "0\n",
      "ffill\n",
      "(48710, 108)\n",
      "(31431, 108)\n",
      "0\n",
      "0\n",
      "bfill\n"
     ]
    }
   ],
   "source": [
    "# check if nan-values vanished\n",
    "for filler in fillers:\n",
    "    print(filler.train.shape)\n",
    "    print(filler.test.shape)\n",
    "    print(filler.train.isna().sum().sum())\n",
    "    print(filler.test.isna().sum().sum())\n",
    "    print(filler.get_method())"
   ]
  },
  {
   "cell_type": "code",
   "execution_count": 15,
   "metadata": {},
   "outputs": [],
   "source": [
    "def train_run(X: pd.DataFrame, y: pd.DataFrame, X_test: pd.DataFrame, y_test: pd.DataFrame, model: BaseEstimator) -> dict:\n",
    "\n",
    "    clf = model\n",
    "    clf.fit(X, y)\n",
    "    y_test_pred = clf.predict(X_test)\n",
    "    y_train_pred = clf.predict(X)\n",
    "    f1_train = f1_score(y, y_train_pred, average='weighted')\n",
    "    precision = precision_score(y_test, y_test_pred, average='weighted')\n",
    "    recall = recall_score(y_test, y_test_pred, average='weighted')\n",
    "    f1 = f1_score(y_test, y_test_pred, average='weighted')\n",
    "\n",
    "    scores = {\n",
    "        \"f1_train\": f1_train,\n",
    "        \"f1\": f1,\n",
    "        \"precision\": precision,\n",
    "        \"recall\": recall\n",
    "    }\n",
    "\n",
    "    return scores"
   ]
  },
  {
   "cell_type": "code",
   "execution_count": 16,
   "metadata": {},
   "outputs": [],
   "source": [
    "# Utility function to report best scores\n",
    "def report(results: dict, n_top=3) -> None:\n",
    "    for i in range(1, n_top + 1):\n",
    "        candidates = np.flatnonzero(results[\"rank_test_score\"] == i)\n",
    "        for candidate in candidates:\n",
    "            print(\"Model with rank: {0}\".format(i))\n",
    "            print(\n",
    "                \"Mean validation score: {0:.3f} (std: {1:.3f})\".format(\n",
    "                    results[\"mean_test_score\"][candidate],\n",
    "                    results[\"std_test_score\"][candidate],\n",
    "                )\n",
    "            )\n",
    "            print(\"Parameters: {0}\".format(results[\"params\"][candidate]))\n",
    "            print(\"\")"
   ]
  },
  {
   "cell_type": "code",
   "execution_count": 17,
   "metadata": {},
   "outputs": [],
   "source": [
    "def train_runs(fillers: list[FillMethod]) -> list[dict]:\n",
    "    \n",
    "    best_scores = []\n",
    "\n",
    "    for filler in fillers:\n",
    "        X_train = filler.get_train_x()\n",
    "        X_test = filler.get_test_x()\n",
    "        y_train = filler.get_train_y()\n",
    "        y_test = filler.get_test_y()\n",
    "\n",
    "\n",
    "        pipe = Pipeline([\n",
    "            ('dt', DecisionTreeClassifier(random_state=0))\n",
    "        ])\n",
    "\n",
    "        param_grid = {\n",
    "            \"dt__max_depth\": [30],\n",
    "            \"dt__min_samples_leaf\": [1],\n",
    "            \"dt__class_weight\": [\"balanced\"],\n",
    "            \"dt__criterion\": [\"log_loss\"]\n",
    "        }\n",
    "        sh = GridSearchCV(pipe, param_grid, scoring=\"f1_weighted\")\n",
    "        fitted = sh.fit(X_train, y_train)\n",
    "        clf = sh.best_estimator_\n",
    "        report(sh.cv_results_)\n",
    "\n",
    "        scores = train_run(X_train, y_train, X_test, y_test, model=clf)\n",
    "\n",
    "        best_scores.append({\n",
    "            \"type\": filler.get_method(),  \"f1_train\": scores[\"f1_train\"], \"f1\": scores[\"f1\"],\n",
    "            \"precision\": scores[\"precision\"], \"recall\": scores[\"recall\"], \"clf\": clf})\n",
    "    \n",
    "    return best_scores"
   ]
  },
  {
   "cell_type": "code",
   "execution_count": 18,
   "metadata": {},
   "outputs": [
    {
     "name": "stdout",
     "output_type": "stream",
     "text": [
      "Model with rank: 1\n",
      "Mean validation score: 0.877 (std: 0.005)\n",
      "Parameters: {'dt__class_weight': 'balanced', 'dt__criterion': 'log_loss', 'dt__max_depth': 30, 'dt__min_samples_leaf': 1}\n",
      "\n",
      "Model with rank: 1\n",
      "Mean validation score: 0.873 (std: 0.004)\n",
      "Parameters: {'dt__class_weight': 'balanced', 'dt__criterion': 'log_loss', 'dt__max_depth': 30, 'dt__min_samples_leaf': 1}\n",
      "\n",
      "Model with rank: 1\n",
      "Mean validation score: 0.869 (std: 0.006)\n",
      "Parameters: {'dt__class_weight': 'balanced', 'dt__criterion': 'log_loss', 'dt__max_depth': 30, 'dt__min_samples_leaf': 1}\n",
      "\n"
     ]
    }
   ],
   "source": [
    "best_scores = train_runs(fillers)"
   ]
  },
  {
   "cell_type": "code",
   "execution_count": 19,
   "metadata": {},
   "outputs": [
    {
     "data": {
      "text/plain": [
       "[{'type': 'median',\n",
       "  'f1_train': 1.0,\n",
       "  'f1': 0.1736812242951779,\n",
       "  'precision': 0.21639975606654346,\n",
       "  'recall': 0.24730361744774268,\n",
       "  'clf': Pipeline(steps=[('dt',\n",
       "                   DecisionTreeClassifier(class_weight='balanced',\n",
       "                                          criterion='log_loss', max_depth=30,\n",
       "                                          random_state=0))])},\n",
       " {'type': 'ffill',\n",
       "  'f1_train': 0.9998562977866446,\n",
       "  'f1': 0.16065590030449953,\n",
       "  'precision': 0.19521353734986013,\n",
       "  'recall': 0.22923228659603576,\n",
       "  'clf': Pipeline(steps=[('dt',\n",
       "                   DecisionTreeClassifier(class_weight='balanced',\n",
       "                                          criterion='log_loss', max_depth=30,\n",
       "                                          random_state=0))])},\n",
       " {'type': 'bfill',\n",
       "  'f1_train': 0.9999794702768724,\n",
       "  'f1': 0.15896917092108714,\n",
       "  'precision': 0.1873262882041059,\n",
       "  'recall': 0.2198784639368776,\n",
       "  'clf': Pipeline(steps=[('dt',\n",
       "                   DecisionTreeClassifier(class_weight='balanced',\n",
       "                                          criterion='log_loss', max_depth=30,\n",
       "                                          random_state=0))])}]"
      ]
     },
     "execution_count": 19,
     "metadata": {},
     "output_type": "execute_result"
    }
   ],
   "source": [
    "best_scores"
   ]
  },
  {
   "cell_type": "code",
   "execution_count": 20,
   "metadata": {},
   "outputs": [],
   "source": [
    "y_pred = best_scores[0][\"clf\"].predict(fillers[0].get_test_x())"
   ]
  },
  {
   "cell_type": "code",
   "execution_count": 23,
   "metadata": {},
   "outputs": [
    {
     "data": {
      "text/plain": [
       "(array([22658.,  4283.,  1581.,  1676.,  1233.]),\n",
       " array([0. , 0.8, 1.6, 2.4, 3.2, 4. ]),\n",
       " <BarContainer object of 5 artists>)"
      ]
     },
     "execution_count": 23,
     "metadata": {},
     "output_type": "execute_result"
    },
    {
     "data": {
      "image/png": "[encoded data removed]",
      "text/plain": [
       "<Figure size 432x288 with 1 Axes>"
      ]
     },
     "metadata": {
      "needs_background": "light"
     },
     "output_type": "display_data"
    }
   ],
   "source": [
    "plt.hist(y_pred, bins=5)"
   ]
  },
  {
   "cell_type": "code",
   "execution_count": 24,
   "metadata": {},
   "outputs": [
    {
     "data": {
      "text/plain": [
       "(array([8477., 6839., 8857., 4318., 2940.]),\n",
       " array([0. , 0.8, 1.6, 2.4, 3.2, 4. ]),\n",
       " <BarContainer object of 5 artists>)"
      ]
     },
     "execution_count": 24,
     "metadata": {},
     "output_type": "execute_result"
    },
    {
     "data": {
      "image/png": "[encoded data removed]",
      "text/plain": [
       "<Figure size 432x288 with 1 Axes>"
      ]
     },
     "metadata": {
      "needs_background": "light"
     },
     "output_type": "display_data"
    }
   ],
   "source": [
    "plt.hist(fillers[0].get_test_y(), bins=5)"
   ]
  },
  {
   "cell_type": "code",
   "execution_count": 87,
   "metadata": {},
   "outputs": [],
   "source": [
    "import os\n",
    "os.makedirs(\"./data/data_prepared\", exist_ok=True)"
   ]
  },
  {
   "cell_type": "code",
   "execution_count": 88,
   "metadata": {},
   "outputs": [],
   "source": [
    "fillers[0].train.to_csv(\"./data/data_prepared/train_hydraulic_multi.csv\")\n",
    "fillers[0].test.to_csv(\"./data/data_prepared/test_hydraulic_multi.csv\")"
   ]
  },
  {
   "cell_type": "code",
   "execution_count": null,
   "metadata": {},
   "outputs": [],
   "source": []
  }
 ],
 "metadata": {
  "kernelspec": {
   "display_name": "Python 3.9.12 ('XAI_wind')",
   "language": "python",
   "name": "python3"
  },
  "language_info": {
   "codemirror_mode": {
    "name": "ipython",
    "version": 3
   },
   "file_extension": ".py",
   "mimetype": "text/x-python",
   "name": "python",
   "nbconvert_exporter": "python",
   "pygments_lexer": "ipython3",
   "version": "3.9.12"
  },
  "orig_nbformat": 4,
  "vscode": {
   "interpreter": {
    "hash": "520723b62f68f94512b4b527a2129921bc4d6da9c94363ee0894f78e84b35631"
   }
  }
 },
 "nbformat": 4,
 "nbformat_minor": 2
}

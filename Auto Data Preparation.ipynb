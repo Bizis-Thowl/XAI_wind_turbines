{
 "cells": [
  {
   "cell_type": "code",
   "execution_count": 87,
   "metadata": {},
   "outputs": [],
   "source": [
    "import pandas as pd\n",
    "import numpy as np\n",
    "import matplotlib.pyplot as plt\n",
    "from sklearn.tree import DecisionTreeClassifier\n",
    "from sklearn.metrics import f1_score, precision_score, recall_score\n",
    "from sklearn.model_selection import RandomizedSearchCV\n",
    "import scipy"
   ]
  },
  {
   "cell_type": "code",
   "execution_count": 88,
   "metadata": {},
   "outputs": [],
   "source": [
    "train = pd.read_csv(\"./data/first_clean/train_gearbox.csv\", sep=\",\")\n",
    "test = pd.read_csv(\"./data/first_clean/test_gearbox.csv\", sep=\",\")"
   ]
  },
  {
   "cell_type": "code",
   "execution_count": 89,
   "metadata": {},
   "outputs": [],
   "source": [
    "reg_target_name = \"RUL (Target)\"\n",
    "class_target_name = \"Failure (Target)\"\n",
    "drop_cols = [reg_target_name, class_target_name, \"Turbine_ID\", \"Timestamp\", \"Unnamed: 0\"]"
   ]
  },
  {
   "cell_type": "code",
   "execution_count": 101,
   "metadata": {},
   "outputs": [],
   "source": [
    "def fill_nans_w_method(train, test, methods: list) -> tuple[dict, dict, dict, dict]:\n",
    "\n",
    "    X_train_dict = {}\n",
    "    y_train_dict = {}\n",
    "    X_test_dict = {}\n",
    "    y_test_dict = {}\n",
    "\n",
    "    # train samplen, um Trainings-Zeit zu verkürzen\n",
    "    train_frac = 0.1\n",
    "\n",
    "    for method in methods:\n",
    "        if method == \"median\":\n",
    "            filled_train = train.fillna(train.median()).sample(frac=train_frac)\n",
    "            filled_test = test.fillna(test.median()).sample(frac=1)\n",
    "            X_train_dict[method] = filled_train.drop(columns=drop_cols)\n",
    "            y_train_dict[method] = filled_train[class_target_name]\n",
    "            X_test_dict[method] = filled_test.drop(columns=drop_cols)\n",
    "            y_test_dict[method] = filled_test[class_target_name]\n",
    "        else:\n",
    "            filled_train = train.fillna(method=method).sample(frac=train_frac)\n",
    "            filled_test = test.fillna(method=method).sample(frac=1)\n",
    "            X_train_dict[method] = filled_train.drop(columns=drop_cols)\n",
    "            y_train_dict[method] = filled_train[class_target_name]\n",
    "            X_test_dict[method] = filled_test.drop(columns=drop_cols)\n",
    "            y_test_dict[method] = filled_test[class_target_name]\n",
    "\n",
    "    return X_train_dict, y_train_dict, X_test_dict, y_test_dict"
   ]
  },
  {
   "cell_type": "code",
   "execution_count": 102,
   "metadata": {},
   "outputs": [],
   "source": [
    "\n",
    "X_compounded = {}\n",
    "y_compounded = {}\n",
    "\n",
    "X_test_compounded = {}\n",
    "y_test_compounded = {}\n",
    "\n",
    "fill_methods = [\"ffill\", \"bfill\", \"median\"]\n",
    "\n",
    "X_compounded, y_compounded, X_test_compounded, y_test_compounded = fill_nans_w_method(train, test, fill_methods)"
   ]
  },
  {
   "cell_type": "code",
   "execution_count": 103,
   "metadata": {},
   "outputs": [],
   "source": [
    "def train_run(X, y, X_test, y_test, model):\n",
    "\n",
    "    clf = model\n",
    "    clf.fit(X, y)\n",
    "    y_test_pred = clf.predict(X_test)\n",
    "    y_train_pred = clf.predict(X)\n",
    "    f1_train = f1_score(y, y_train_pred)\n",
    "    precision = precision_score(y_test, y_test_pred)\n",
    "    recall = recall_score(y_test, y_test_pred)\n",
    "    f1 = f1_score(y_test, y_test_pred)\n",
    "\n",
    "    scores = {\n",
    "        \"f1_train\": f1_train,\n",
    "        \"f1\": f1,\n",
    "        \"precision\": precision,\n",
    "        \"recall\": recall\n",
    "    }\n",
    "\n",
    "    return scores"
   ]
  },
  {
   "cell_type": "code",
   "execution_count": 125,
   "metadata": {},
   "outputs": [],
   "source": [
    "# Utility function to report best scores\n",
    "def report(results, n_top=3):\n",
    "    for i in range(1, n_top + 1):\n",
    "        candidates = np.flatnonzero(results[\"rank_test_score\"] == i)\n",
    "        for candidate in candidates:\n",
    "            print(\"Model with rank: {0}\".format(i))\n",
    "            print(\n",
    "                \"Mean validation score: {0:.3f} (std: {1:.3f})\".format(\n",
    "                    results[\"mean_test_score\"][candidate],\n",
    "                    results[\"std_test_score\"][candidate],\n",
    "                )\n",
    "            )\n",
    "            print(\"Parameters: {0}\".format(results[\"params\"][candidate]))\n",
    "            print(\"\")"
   ]
  },
  {
   "cell_type": "code",
   "execution_count": 136,
   "metadata": {},
   "outputs": [],
   "source": [
    "def train_runs(X_compounded, y_compounded, X_test_compounded, y_test_compounded):\n",
    "    \n",
    "    best_scores = []\n",
    "\n",
    "    for fe_type in fill_methods:\n",
    "        X_train = X_compounded[fe_type]\n",
    "        X_test = X_test_compounded[fe_type]\n",
    "        y_train = y_compounded[fe_type]\n",
    "        y_test = y_test_compounded[fe_type]\n",
    "\n",
    "        base_estimator = DecisionTreeClassifier(random_state=0, ccp_alpha=0.001)\n",
    "        param_grid = {\n",
    "            \"max_depth\": scipy.stats.randint(5, 60),\n",
    "            \"min_samples_leaf\": scipy.stats.randint(1, 1000),\n",
    "            \"class_weight\": [\"balanced\", None], \n",
    "            \"criterion\": [\"gini\", \"entropy\", \"log_loss\"],\n",
    "        }\n",
    "        sh = RandomizedSearchCV(base_estimator, param_grid, scoring=\"f1\").fit(X_train, y_train)\n",
    "        clf = sh.best_estimator_\n",
    "        report(sh.cv_results_)\n",
    "\n",
    "        scores = train_run(X_train, y_train, X_test, y_test, model=clf)\n",
    "\n",
    "        best_scores.append({\n",
    "            \"type\": fe_type,  \"f1_train\": scores[\"f1_train\"], \"f1\": scores[\"f1\"], \n",
    "            \"precision\": scores[\"precision\"], \"recall\": scores[\"recall\"], \"clf\": clf})\n",
    "    \n",
    "    return best_scores"
   ]
  },
  {
   "cell_type": "code",
   "execution_count": 137,
   "metadata": {},
   "outputs": [],
   "source": [
    "# %run ./utility/model_loader.py -i"
   ]
  },
  {
   "cell_type": "code",
   "execution_count": 138,
   "metadata": {},
   "outputs": [
    {
     "name": "stdout",
     "output_type": "stream",
     "text": [
      "Model with rank: 1\n",
      "Mean validation score: 0.280 (std: 0.085)\n",
      "Parameters: {'class_weight': None, 'criterion': 'log_loss', 'max_depth': 36, 'min_samples_leaf': 98}\n",
      "\n",
      "Model with rank: 2\n",
      "Mean validation score: 0.225 (std: 0.006)\n",
      "Parameters: {'class_weight': 'balanced', 'criterion': 'gini', 'max_depth': 54, 'min_samples_leaf': 513}\n",
      "\n",
      "Model with rank: 3\n",
      "Mean validation score: 0.213 (std: 0.014)\n",
      "Parameters: {'class_weight': 'balanced', 'criterion': 'entropy', 'max_depth': 8, 'min_samples_leaf': 635}\n",
      "\n",
      "Model with rank: 1\n",
      "Mean validation score: 0.251 (std: 0.022)\n",
      "Parameters: {'class_weight': 'balanced', 'criterion': 'entropy', 'max_depth': 15, 'min_samples_leaf': 487}\n",
      "\n",
      "Model with rank: 2\n",
      "Mean validation score: 0.249 (std: 0.015)\n",
      "Parameters: {'class_weight': 'balanced', 'criterion': 'entropy', 'max_depth': 8, 'min_samples_leaf': 428}\n",
      "\n",
      "Model with rank: 3\n",
      "Mean validation score: 0.242 (std: 0.016)\n",
      "Parameters: {'class_weight': 'balanced', 'criterion': 'log_loss', 'max_depth': 13, 'min_samples_leaf': 528}\n",
      "\n",
      "Model with rank: 1\n",
      "Mean validation score: 0.528 (std: 0.018)\n",
      "Parameters: {'class_weight': 'balanced', 'criterion': 'log_loss', 'max_depth': 37, 'min_samples_leaf': 1}\n",
      "\n",
      "Model with rank: 2\n",
      "Mean validation score: 0.262 (std: 0.017)\n",
      "Parameters: {'class_weight': 'balanced', 'criterion': 'entropy', 'max_depth': 38, 'min_samples_leaf': 462}\n",
      "\n",
      "Model with rank: 3\n",
      "Mean validation score: 0.261 (std: 0.024)\n",
      "Parameters: {'class_weight': 'balanced', 'criterion': 'gini', 'max_depth': 8, 'min_samples_leaf': 136}\n",
      "\n"
     ]
    }
   ],
   "source": [
    "best_scores = train_runs(X_compounded, y_compounded, X_test_compounded, y_test_compounded)"
   ]
  },
  {
   "cell_type": "code",
   "execution_count": 139,
   "metadata": {},
   "outputs": [
    {
     "data": {
      "text/plain": [
       "[{'type': 'ffill',\n",
       "  'f1_train': 0.42328042328042326,\n",
       "  'f1': 0.0,\n",
       "  'precision': 0.0,\n",
       "  'recall': 0.0,\n",
       "  'clf': DecisionTreeClassifier(ccp_alpha=0.001, criterion='log_loss', max_depth=36,\n",
       "                         min_samples_leaf=98, random_state=0)},\n",
       " {'type': 'bfill',\n",
       "  'f1_train': 0.25207452638171285,\n",
       "  'f1': 0.03937854573769884,\n",
       "  'precision': 0.028956265677827463,\n",
       "  'recall': 0.061522419186652764,\n",
       "  'clf': DecisionTreeClassifier(ccp_alpha=0.001, class_weight='balanced',\n",
       "                         criterion='entropy', max_depth=15, min_samples_leaf=487,\n",
       "                         random_state=0)},\n",
       " {'type': 'median',\n",
       "  'f1_train': 0.5842550422901757,\n",
       "  'f1': 0.008599021034528377,\n",
       "  'precision': 0.01002004008016032,\n",
       "  'recall': 0.007530992932452786,\n",
       "  'clf': DecisionTreeClassifier(ccp_alpha=0.001, class_weight='balanced',\n",
       "                         criterion='log_loss', max_depth=37, random_state=0)}]"
      ]
     },
     "execution_count": 139,
     "metadata": {},
     "output_type": "execute_result"
    }
   ],
   "source": [
    "best_scores"
   ]
  },
  {
   "cell_type": "code",
   "execution_count": 52,
   "metadata": {},
   "outputs": [],
   "source": [
    "y_pred = best_scores[0][\"clf\"].predict(X_compounded[\"ffill\"])"
   ]
  },
  {
   "cell_type": "code",
   "execution_count": 53,
   "metadata": {},
   "outputs": [
    {
     "data": {
      "text/plain": [
       "(array([31931.,     0.,   990.]),\n",
       " array([0.        , 0.33333333, 0.66666667, 1.        ]),\n",
       " <BarContainer object of 3 artists>)"
      ]
     },
     "execution_count": 53,
     "metadata": {},
     "output_type": "execute_result"
    },
    {
     "data": {
      "image/png": "[encoded data removed]",
      "text/plain": [
       "<Figure size 432x288 with 1 Axes>"
      ]
     },
     "metadata": {
      "needs_background": "light"
     },
     "output_type": "display_data"
    }
   ],
   "source": [
    "plt.hist(y_pred, bins=3)"
   ]
  },
  {
   "cell_type": "code",
   "execution_count": 56,
   "metadata": {},
   "outputs": [
    {
     "data": {
      "text/plain": [
       "(array([32059.,     0.,   862.]),\n",
       " array([0.        , 0.33333333, 0.66666667, 1.        ]),\n",
       " <BarContainer object of 3 artists>)"
      ]
     },
     "execution_count": 56,
     "metadata": {},
     "output_type": "execute_result"
    },
    {
     "data": {
      "image/png": "[encoded data removed]",
      "text/plain": [
       "<Figure size 432x288 with 1 Axes>"
      ]
     },
     "metadata": {
      "needs_background": "light"
     },
     "output_type": "display_data"
    }
   ],
   "source": [
    "plt.hist(y_train, bins=3)"
   ]
  },
  {
   "cell_type": "code",
   "execution_count": 97,
   "metadata": {},
   "outputs": [],
   "source": [
    "tree = best_scores[0][\"clf\"]\n",
    "path = tree.cost_complexity_pruning_path(X_compounded[\"ffill\"], y_compounded[\"ffill\"])"
   ]
  },
  {
   "cell_type": "code",
   "execution_count": 98,
   "metadata": {},
   "outputs": [],
   "source": [
    "alphas=path[\"ccp_alphas\"]"
   ]
  },
  {
   "cell_type": "code",
   "execution_count": 100,
   "metadata": {},
   "outputs": [
    {
     "data": {
      "text/plain": [
       "770"
      ]
     },
     "execution_count": 100,
     "metadata": {},
     "output_type": "execute_result"
    }
   ],
   "source": [
    "len(alphas)"
   ]
  },
  {
   "cell_type": "code",
   "execution_count": null,
   "metadata": {},
   "outputs": [],
   "source": []
  }
 ],
 "metadata": {
  "kernelspec": {
   "display_name": "Python 3.9.12 ('XAI_wind')",
   "language": "python",
   "name": "python3"
  },
  "language_info": {
   "codemirror_mode": {
    "name": "ipython",
    "version": 3
   },
   "file_extension": ".py",
   "mimetype": "text/x-python",
   "name": "python",
   "nbconvert_exporter": "python",
   "pygments_lexer": "ipython3",
   "version": "3.9.12"
  },
  "orig_nbformat": 4,
  "vscode": {
   "interpreter": {
    "hash": "520723b62f68f94512b4b527a2129921bc4d6da9c94363ee0894f78e84b35631"
   }
  }
 },
 "nbformat": 4,
 "nbformat_minor": 2
}

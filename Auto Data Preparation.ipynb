{
 "cells": [
  {
   "cell_type": "code",
   "execution_count": null,
   "metadata": {},
   "outputs": [],
   "source": [
    "import pandas as pd\n",
    "import numpy as np\n",
    "import matplotlib.pyplot as plt\n",
    "from sklearn.model_selection import StratifiedKFold\n",
    "from sklearn.feature_selection import VarianceThreshold, mutual_info_regression\n",
    "from sklearn.preprocessing import LabelEncoder\n",
    "from sklearn.tree import DecisionTreeClassifier\n",
    "from sklearn.metrics import mean_squared_error, f1_score, precision_score, recall_score\n",
    "from sklearn import tree"
   ]
  },
  {
   "cell_type": "code",
   "execution_count": null,
   "metadata": {},
   "outputs": [],
   "source": [
    "train = pd.read_csv(\"./data/first_clean/train_gearbox.csv\", sep=\",\")\n",
    "test = pd.read_csv(\"./data/first_clean/test_gearbox.csv\", sep=\",\")"
   ]
  },
  {
   "cell_type": "code",
   "execution_count": null,
   "metadata": {},
   "outputs": [],
   "source": [
    "reg_target_name = \"RUL (Target)\"\n",
    "class_target_name = \"Failure (Target)\"\n",
    "drop_cols = [reg_target_name, class_target_name, \"Turbine_ID\", \"Timestamp\", \"Unnamed: 0\"]\n",
    "\n",
    "train_sample = train.sample(frac=0.1)\n",
    "X_train = train_sample.drop(columns=drop_cols)\n",
    "y_train = train_sample[class_target_name]\n",
    "X_valid = test.drop(columns=drop_cols)\n",
    "y_valid = test[class_target_name]"
   ]
  },
  {
   "cell_type": "code",
   "execution_count": null,
   "metadata": {},
   "outputs": [],
   "source": [
    "\n",
    "X_compounded = {}\n",
    "\n",
    "X_test_compounded = {}\n",
    "\n",
    "X_compounded[\"forward_fill\"] = X_train.fillna(method=\"ffill\").sample(frac=1)\n",
    "X_test_compounded[\"forward_fill\"] = X_valid.fillna(method=\"ffill\").sample(frac=1)\n",
    "\n",
    "# Create mutual information datasets\n",
    "X_compounded[\"backward_fill\"] = X_train.fillna(method=\"bfill\").sample(frac=1)\n",
    "X_test_compounded[\"backward_fill\"] = X_valid.fillna(method=\"bfill\").sample(frac=1)\n",
    "\n",
    "X_compounded[\"median_fill\"] = X_train.fillna(X_train.median()).sample(frac=1)\n",
    "X_test_compounded[\"median_fill\"] = X_valid.fillna(X_valid.median()).sample(frac=1)"
   ]
  },
  {
   "cell_type": "code",
   "execution_count": null,
   "metadata": {},
   "outputs": [],
   "source": [
    "def train_run(X, y, X_test, y_test, depth=5, name=\"\"):\n",
    "\n",
    "    clf = DecisionTreeClassifier(max_depth=depth)\n",
    "    clf.fit(X, y)\n",
    "    y_test_pred = clf.predict(np.array(X_test))\n",
    "    y_train_pred = clf.predict(np.array(X))\n",
    "    f1_train = f1_score(y_train, y_train_pred)\n",
    "    precision = precision_score(y_test, y_test_pred)\n",
    "    recall = recall_score(y_test, y_test_pred)\n",
    "    f1 = f1_score(y_test, y_test_pred)\n",
    "    print(\"f1 for {}: {}\".format(name, f1))\n",
    "    print(\"f1 train for {}: {}\".format(name, f1_train))\n",
    "    print(\"precision for {}: {}\".format(name, precision))\n",
    "    print(\"recall for {}: {}\".format(name, recall))\n",
    "\n",
    "    scores = {\n",
    "        \"f1\": f1,\n",
    "        \"precision\": precision,\n",
    "        \"recall\": recall\n",
    "    }\n",
    "\n",
    "    return scores, clf"
   ]
  },
  {
   "cell_type": "code",
   "execution_count": null,
   "metadata": {},
   "outputs": [],
   "source": [
    "def train_runs(X_compound, X_test_compound, y_train, y_test, depths=[5]):\n",
    "    \n",
    "    best_scores = []\n",
    "\n",
    "    for fe_type in X_compound:\n",
    "        X_train = X_compound[fe_type]\n",
    "        X_test = X_test_compound[fe_type]\n",
    "        f1_best = 0\n",
    "        precision_best = 0\n",
    "        recall_best = 0\n",
    "        best_config = {}\n",
    "        best_clf = None\n",
    "        for depth in depths:\n",
    "            scores, clf = train_run(X_train, y_train, X_test, y_test, depth=depth, name=fe_type)\n",
    "            if f1_best < scores[\"f1\"]:\n",
    "                f1_best = scores[\"f1\"]\n",
    "                best_clf = clf\n",
    "                precision_best = scores[\"precision\"]\n",
    "                recall_best = scores[\"recall\"]\n",
    "                best_config[\"depth\"] = depth\n",
    "        best_scores.append({\n",
    "            \"type\": fe_type, \"best_config\": best_config, \n",
    "            \"f1\": f1_best, \"precision\": precision_best, \"recall\": recall_best, \"clf\": best_clf})\n",
    "    \n",
    "    return best_scores"
   ]
  },
  {
   "cell_type": "code",
   "execution_count": null,
   "metadata": {},
   "outputs": [],
   "source": [
    "best_scores = train_runs(X_compounded, X_test_compounded, y_train, y_valid, depths=[40, 80, 120])"
   ]
  },
  {
   "cell_type": "code",
   "execution_count": null,
   "metadata": {},
   "outputs": [],
   "source": [
    "y_pred = best_scores[0][\"clf\"].predict(X_compounded[\"forward_fill\"])"
   ]
  },
  {
   "cell_type": "code",
   "execution_count": null,
   "metadata": {},
   "outputs": [],
   "source": [
    "plt.hist(y_pred)"
   ]
  }
 ],
 "metadata": {
  "kernelspec": {
   "display_name": "Python 3.9.12 ('XAI_wind')",
   "language": "python",
   "name": "python3"
  },
  "language_info": {
   "codemirror_mode": {
    "name": "ipython",
    "version": 3
   },
   "file_extension": ".py",
   "mimetype": "text/x-python",
   "name": "python",
   "nbconvert_exporter": "python",
   "pygments_lexer": "ipython3",
   "version": "3.9.12"
  },
  "orig_nbformat": 4,
  "vscode": {
   "interpreter": {
    "hash": "520723b62f68f94512b4b527a2129921bc4d6da9c94363ee0894f78e84b35631"
   }
  }
 },
 "nbformat": 4,
 "nbformat_minor": 2
}

{
 "cells": [
  {
   "cell_type": "code",
   "execution_count": 1,
   "metadata": {},
   "outputs": [],
   "source": [
    "import pandas as pd\n",
    "from pandas import DataFrame\n",
    "import numpy as np\n",
    "from sklearn.tree import DecisionTreeClassifier\n",
    "from sklearn.metrics import mean_absolute_error, median_absolute_error, r2_score, accuracy_score\n",
    "from sklearn.feature_selection import mutual_info_regression\n",
    "from sdv.tabular import CTGAN\n",
    "from hyperopt import fmin, tpe, hp, STATUS_OK, Trials\n",
    "import matplotlib.pyplot as plt"
   ]
  },
  {
   "cell_type": "code",
   "execution_count": 2,
   "metadata": {},
   "outputs": [],
   "source": [
    "train = pd.read_csv(\"./data/multi/train_hydraulic.csv\", sep=\",\")\n",
    "\n",
    "drop_cols = [\"Turbine_ID\", \"Timestamp\", \"Unnamed: 0\", \"index_y\"]\n",
    "train = train.drop(columns = drop_cols)\n",
    "\n",
    "fill_method=\"ffill\"\n",
    "train = train.fillna(method=fill_method)\n",
    "\n",
    "class_target_name = \"Risk Level\"\n",
    "\n",
    "test = pd.read_csv(\"./data/multi/test_hydraulic.csv\", sep=\",\")\n",
    "drop_cols = [\"Turbine_ID\", \"Timestamp\", \"Unnamed: 0\", \"index_y\"]\n",
    "test = test.drop(columns = drop_cols)\n",
    "fill_method=\"ffill\"\n",
    "test = test.fillna(method = fill_method)\n",
    "test = test.fillna(method = \"backfill\")"
   ]
  },
  {
   "cell_type": "code",
   "execution_count": 3,
   "metadata": {},
   "outputs": [],
   "source": [
    "def split_x_y(data:DataFrame ,target_name: str):\n",
    "    drop = [target_name]\n",
    "    x = data.drop(columns=target_name)\n",
    "    y = data[target_name]\n",
    "    return x,y\n",
    "\n",
    "def checkNaN(data: DataFrame):\n",
    "    re = str(data.isnull().sum().sum())\n",
    "    #print(re)\n",
    "    return re\n",
    "\n",
    "def get_eval_scores(inputs_train:DataFrame, targets_train:DataFrame, inputs_test:DataFrame, targets_test:DataFrame, args):\n",
    "    dtr = DecisionTreeClassifier(\n",
    "        max_depth = args[\"max_depth\"],\n",
    "        min_samples_leaf = args[\"min_samples_leaf\"],\n",
    "        random_state = args[\"random_state\"],\n",
    "        max_features = args[\"max_features\"],\n",
    "        criterion = args[\"criterion\"],\n",
    "        #normalize = args[\"normalize\"],\n",
    "    )\n",
    "    dtr.fit(inputs_train, targets_train)\n",
    "    eval_predict = dtr.predict(inputs_test)\n",
    "    accuracy = accuracy_score(targets_test, eval_predict)\n",
    "    return accuracy\n",
    "\n",
    "def train_run(data: DataFrame, test:DataFrame, args):\n",
    "    train_x, train_y = split_x_y(data, class_target_name)    \n",
    "    test_x, test_y = split_x_y(test, class_target_name)\n",
    "    return 1-get_eval_scores(train_x, train_y, test_x, test_y, args)\n",
    "\n",
    "def get_args():\n",
    "    args = {\n",
    "        \"max_depth\": hp.choice('max_depth', range(1,100)),\n",
    "        \"min_samples_leaf\": hp.choice(\"min_samples_leaf\", range(1,15)),\n",
    "        \"random_state\": hp.randint(\"random_state\", 3000),\n",
    "        \"max_features\": hp.choice('max_features', range(1,50)),\n",
    "        \"criterion\": hp.choice('criterion', [\"gini\", \"entropy\"]),\n",
    "        #\"normalize\": hp.choice('normalize', [0, 1])\n",
    "    }\n",
    "    return args\n",
    "    \n",
    "def f(args):\n",
    "    acc = train_run(train, test, args)\n",
    "    return {'loss': acc, 'status': STATUS_OK}"
   ]
  },
  {
   "cell_type": "code",
   "execution_count": 4,
   "metadata": {},
   "outputs": [
    {
     "name": "stdout",
     "output_type": "stream",
     "text": [
      "100%|██████████| 300/300 [20:44<00:00,  4.15s/trial, best loss: 0.14338980251665812]\n",
      "best:{'criterion': 1, 'max_depth': 5, 'max_features': 0, 'min_samples_leaf': 7, 'random_state': 373}\n"
     ]
    }
   ],
   "source": [
    "trials = Trials()\n",
    "args_ = get_args()\n",
    "best = fmin(f, args_, algo=tpe.suggest, max_evals=300, trials=trials)\n",
    "print (\"best:\" + str(best))"
   ]
  }
 ],
 "metadata": {
  "kernelspec": {
   "display_name": "base",
   "language": "python",
   "name": "python3"
  },
  "language_info": {
   "codemirror_mode": {
    "name": "ipython",
    "version": 3
   },
   "file_extension": ".py",
   "mimetype": "text/x-python",
   "name": "python",
   "nbconvert_exporter": "python",
   "pygments_lexer": "ipython3",
   "version": "3.9.15 (main, Nov 24 2022, 14:39:17) [MSC v.1916 64 bit (AMD64)]"
  },
  "orig_nbformat": 4,
  "vscode": {
   "interpreter": {
    "hash": "a561ff09736c45ea8c4c6a2f2879bc77e5e64e20329dfa0346a65d0599b7f690"
   }
  }
 },
 "nbformat": 4,
 "nbformat_minor": 2
}

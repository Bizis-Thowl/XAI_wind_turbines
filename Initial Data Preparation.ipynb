{
 "cells": [
  {
   "cell_type": "markdown",
   "id": "4f28d571",
   "metadata": {},
   "source": [
    "# Initiale Datevorbereitung"
   ]
  },
  {
   "cell_type": "markdown",
   "id": "744c94b9",
   "metadata": {},
   "source": [
    "## Ziel\n",
    "\n",
    "Die Rohdaten sollen bereinigt und in Training- und Test-Set gespalten werden\n",
    "\n",
    "Das beinhaltet:\n",
    "\n",
    "* Daten in Reihenfolge bringen\n",
    "* Fehlerhafte Features entfernen\n",
    "* Design einer sinnvollen Zielvariable / Variationen von Zielvariablen\n",
    "* Zusammenfügen der Datensätze\n",
    "* Daten randomisieren\n",
    "* Aufteilen in Training- und Test-Set\n"
   ]
  },
  {
   "cell_type": "code",
   "execution_count": null,
   "id": "5a5d39bc",
   "metadata": {},
   "outputs": [],
   "source": [
    "import pandas as pd\n",
    "import numpy as np\n",
    "import matplotlib.pyplot as plt\n",
    "from sklearn.feature_selection import VarianceThreshold\n",
    "from datetime import datetime, timedelta, timezone\n",
    "import math"
   ]
  },
  {
   "cell_type": "code",
   "execution_count": null,
   "id": "3d0a92a5",
   "metadata": {},
   "outputs": [],
   "source": [
    "plt.rcParams[\"figure.figsize\"] = (50,40)"
   ]
  },
  {
   "cell_type": "code",
   "execution_count": null,
   "id": "3fe63465",
   "metadata": {},
   "outputs": [],
   "source": [
    "failures_2016 = pd.read_csv(\"./data/init/failures-2016.csv\", sep=\";\")\n",
    "failures_2017 = pd.read_csv(\"./data/init/failures-2017.csv\", sep=\";\")\n",
    "metmast_2016 = pd.read_csv(\"./data/init/metmast-2016.csv\", sep=\";\")\n",
    "metmast_2017 = pd.read_csv(\"./data/init/metmast-2017.csv\", sep=\";\")\n",
    "signals_2016 = pd.read_csv(\"./data/init/signals-2016.csv\", sep=\";\")\n",
    "signals_2017 = pd.read_csv(\"./data/init/signals-2017.csv\", sep=\";\")"
   ]
  },
  {
   "cell_type": "markdown",
   "id": "d23d1268",
   "metadata": {},
   "source": [
    "## 1. Signale betrachten"
   ]
  },
  {
   "cell_type": "markdown",
   "id": "88ae5e44",
   "metadata": {},
   "source": [
    "### Signale beider Jahre kombinieren"
   ]
  },
  {
   "cell_type": "code",
   "execution_count": null,
   "id": "29503462",
   "metadata": {},
   "outputs": [],
   "source": [
    "signals = pd.concat([signals_2016, signals_2017])"
   ]
  },
  {
   "cell_type": "code",
   "execution_count": null,
   "id": "6a79c75e",
   "metadata": {},
   "outputs": [],
   "source": [
    "signals.describe()"
   ]
  },
  {
   "cell_type": "markdown",
   "id": "fd960505",
   "metadata": {},
   "source": [
    "### Die Signale für jede Turbine aufbereiten und plotten"
   ]
  },
  {
   "cell_type": "code",
   "execution_count": null,
   "id": "333c92f2",
   "metadata": {},
   "outputs": [],
   "source": [
    "turbine_names = signals[\"Turbine_ID\"].unique()"
   ]
  },
  {
   "cell_type": "code",
   "execution_count": null,
   "id": "668d2bb6",
   "metadata": {},
   "outputs": [],
   "source": [
    "def create_df_for_each_turbine(signals):\n",
    "    turbine_dfs = list();\n",
    "\n",
    "    for turbine in turbine_names:\n",
    "        test = signals[\"Turbine_ID\"]\n",
    "        turbine_df = signals[signals[\"Turbine_ID\"] == turbine]\n",
    "        turbine_df = turbine_df.sort_values(\"Timestamp\")\n",
    "        turbine_df = turbine_df.reset_index()\n",
    "        turbine_dfs.append(turbine_df)\n",
    "\n",
    "    return turbine_dfs\n",
    "\n",
    "turbine_dfs = create_df_for_each_turbine(signals)\n"
   ]
  },
  {
   "cell_type": "code",
   "execution_count": null,
   "id": "29d00a67",
   "metadata": {},
   "outputs": [],
   "source": [
    "def plot_data(df, title, n_agg, figsize=(10,9)):\n",
    "    my_df = df.groupby(df.index // n_agg).agg(\"mean\")\n",
    "    fig, axs = plt.subplots(figsize[0], figsize[1])\n",
    "    fig.suptitle(title)\n",
    "    fig.tight_layout(pad=5.0)\n",
    "    ctr2 = -1\n",
    "    for i, col in enumerate(my_df):\n",
    "        mod = i % figsize[0]\n",
    "        if mod == 0: ctr2 +=1\n",
    "        ax = axs[mod, ctr2]\n",
    "        ax.scatter(x=my_df.index, y=my_df[col], s=1)\n",
    "        ax.set_title(col)"
   ]
  },
  {
   "cell_type": "code",
   "execution_count": null,
   "id": "d72e7a21",
   "metadata": {},
   "outputs": [],
   "source": [
    "# for i, df in enumerate(turbine_dfs):\n",
    "    # plot_data(df, turbine_names[i], 20)"
   ]
  },
  {
   "cell_type": "markdown",
   "id": "cb1e3e7d",
   "metadata": {},
   "source": [
    "### Signale mit niedriger Varianz herausfiltern"
   ]
  },
  {
   "cell_type": "code",
   "execution_count": null,
   "id": "63bc0963",
   "metadata": {},
   "outputs": [],
   "source": [
    "\n",
    "def get_signals_with_low_variance(df, threshold=0):\n",
    "    numerics = ['int16', 'int32', 'int64', 'float16', 'float32', 'float64']\n",
    "    cont_data = df.select_dtypes(include=numerics)\n",
    "    selector = VarianceThreshold(threshold=threshold)\n",
    "    selector.fit(cont_data)\n",
    "    inverted_list = ~np.array(selector.get_support())\n",
    "    return cont_data.columns[inverted_list].tolist()"
   ]
  },
  {
   "cell_type": "code",
   "execution_count": null,
   "id": "266054cd",
   "metadata": {},
   "outputs": [],
   "source": [
    "cols_to_drop = set()\n",
    "for i, df in enumerate(turbine_dfs):\n",
    "    cols_to_drop.update(get_signals_with_low_variance(df))"
   ]
  },
  {
   "cell_type": "markdown",
   "id": "57b94eba",
   "metadata": {},
   "source": [
    "### Signale mit hoher Korrealität finden"
   ]
  },
  {
   "cell_type": "code",
   "execution_count": null,
   "id": "6ea51d57",
   "metadata": {},
   "outputs": [],
   "source": [
    "def get_signals_with_high_correlation(df, threshold=0.5):\n",
    "    numerics = ['int16', 'int32', 'int64', 'float16', 'float32', 'float64']\n",
    "    cont_data = df.select_dtypes(include=numerics)\n",
    "    corrM = cont_data.corr(min_periods=102921)\n",
    "    arr = np.eye(len(corrM), dtype=bool)\n",
    "    masked = corrM.mask(arr)\n",
    "    abs = masked.abs()\n",
    "    m = ~(abs < threshold).any()\n",
    "    print(np.count_nonzero(m)) \n",
    "    return m"
   ]
  },
  {
   "cell_type": "markdown",
   "id": "3a5a7a97",
   "metadata": {},
   "source": [
    "### Signale wieder zusammenführen"
   ]
  },
  {
   "cell_type": "code",
   "execution_count": null,
   "id": "65905bc6",
   "metadata": {},
   "outputs": [],
   "source": [
    "signals_clean = pd.concat(turbine_dfs)\n",
    "signals_clean = signals_clean.drop(list(cols_to_drop), axis=1)"
   ]
  },
  {
   "cell_type": "code",
   "execution_count": null,
   "id": "a6304a04",
   "metadata": {},
   "outputs": [],
   "source": [
    "signals_clean.describe()"
   ]
  },
  {
   "cell_type": "markdown",
   "id": "b257661c",
   "metadata": {},
   "source": [
    "## 2. Mast-Daten betrachten"
   ]
  },
  {
   "cell_type": "code",
   "execution_count": null,
   "id": "b5f21d3e",
   "metadata": {},
   "outputs": [],
   "source": [
    "metmast = pd.concat([metmast_2016, metmast_2017])"
   ]
  },
  {
   "cell_type": "code",
   "execution_count": null,
   "id": "5cd56ff7",
   "metadata": {},
   "outputs": [],
   "source": [
    "metmast.head()"
   ]
  },
  {
   "cell_type": "code",
   "execution_count": null,
   "id": "9d5b9fe1",
   "metadata": {},
   "outputs": [],
   "source": [
    "df = metmast.describe()\n",
    "df.loc['dtype'] = metmast.dtypes\n",
    "df.loc['size'] = len(metmast)\n",
    "df.loc['n_NaN'] = metmast.isnull().mean() * len(metmast)\n",
    "\n",
    "print(df)"
   ]
  },
  {
   "cell_type": "code",
   "execution_count": null,
   "id": "6340d413",
   "metadata": {},
   "outputs": [],
   "source": [
    "metmast = metmast.sort_values(\"Timestamp\")\n",
    "metmast = metmast.reset_index()\n",
    "\n",
    "plot_data(metmast, \"Mast-Daten\", 10, (6, 7))"
   ]
  },
  {
   "cell_type": "code",
   "execution_count": null,
   "id": "82e7a617",
   "metadata": {},
   "outputs": [],
   "source": [
    "cols_to_drop = get_signals_with_low_variance(metmast)"
   ]
  },
  {
   "cell_type": "code",
   "execution_count": null,
   "id": "58f746ab",
   "metadata": {},
   "outputs": [],
   "source": [
    "# clean automatic features\n",
    "metmast_clean = metmast.drop(cols_to_drop, axis=1)\n",
    "# clean broken sensor data\n",
    "metmast_clean = metmast_clean.drop([\"Min_Winddirection2\", \"Max_Winddirection2\", \"Avg_Winddirection2\", \"Var_Winddirection2\"], axis=1)"
   ]
  },
  {
   "cell_type": "code",
   "execution_count": null,
   "id": "82e2f1a3",
   "metadata": {},
   "outputs": [],
   "source": [
    "metmast_clean.describe()"
   ]
  },
  {
   "cell_type": "code",
   "execution_count": null,
   "id": "0df5a2ba",
   "metadata": {},
   "outputs": [],
   "source": [
    "failures = pd.concat([failures_2016, failures_2017])"
   ]
  },
  {
   "cell_type": "code",
   "execution_count": null,
   "id": "3d56764f",
   "metadata": {},
   "outputs": [],
   "source": [
    "failures.head()"
   ]
  },
  {
   "cell_type": "code",
   "execution_count": null,
   "id": "98dc81db",
   "metadata": {},
   "outputs": [],
   "source": [
    "failures.describe()"
   ]
  },
  {
   "cell_type": "markdown",
   "id": "71a0d74b",
   "metadata": {},
   "source": [
    "# Datensätze in einen Datensatz zusammenführen\n",
    "## Sensor- und Mastdaten mergen"
   ]
  },
  {
   "cell_type": "code",
   "execution_count": null,
   "id": "1cd1023b",
   "metadata": {},
   "outputs": [],
   "source": [
    "merged_df = pd.merge(signals_clean.reset_index(drop=True), metmast_clean.reset_index(drop=True), on=\"Timestamp\", how=\"left\")"
   ]
  },
  {
   "cell_type": "code",
   "execution_count": null,
   "id": "2c0baa8a",
   "metadata": {},
   "outputs": [],
   "source": [
    "merged_df.describe(include=\"all\")"
   ]
  },
  {
   "cell_type": "code",
   "execution_count": null,
   "id": "0e8ca9d6",
   "metadata": {},
   "outputs": [],
   "source": [
    "# for column in merged_df.columns:\n",
    "#     if (pd.api.types.is_numeric_dtype(merged_df[column])):\n",
    "#         merged_df[column].fillna(merged_df[column].median(), inplace = True)"
   ]
  },
  {
   "cell_type": "code",
   "execution_count": null,
   "id": "c980fc05",
   "metadata": {},
   "outputs": [],
   "source": [
    "merged_df.drop(columns=[\"index_x\"], inplace=True)"
   ]
  },
  {
   "cell_type": "code",
   "execution_count": null,
   "id": "a198fdf7",
   "metadata": {},
   "outputs": [],
   "source": [
    "merged_df.sample(5)"
   ]
  },
  {
   "cell_type": "markdown",
   "id": "416b4b04",
   "metadata": {},
   "source": [
    "## Regression Targets vorbereiten und mergen"
   ]
  },
  {
   "cell_type": "code",
   "execution_count": null,
   "id": "f0473592",
   "metadata": {},
   "outputs": [],
   "source": [
    "failures_gearbox = failures[failures[\"Component\"] == \"GEARBOX\"]\n",
    "failures_gearbox.reset_index(drop=True, inplace=True); failures_gearbox"
   ]
  },
  {
   "cell_type": "markdown",
   "id": "6861f9c6",
   "metadata": {},
   "source": [
    "Da die labels nicht auf 10 Minuten gerundet sind (Wie Sensor- und Mastdaten), wird das an dieser Stelle getan damit die Labels mit den restlichen Daten kompatibel sind:"
   ]
  },
  {
   "cell_type": "code",
   "execution_count": null,
   "id": "22d54722",
   "metadata": {},
   "outputs": [],
   "source": [
    "def get_round_minute_diff(datetime_in: datetime) -> timedelta:\n",
    "    min = datetime_in.minute\n",
    "    rounded_min = round(min, -1)\n",
    "    diff = rounded_min - min\n",
    "    return timedelta(minutes=diff)"
   ]
  },
  {
   "cell_type": "code",
   "execution_count": null,
   "id": "b535ea09",
   "metadata": {},
   "outputs": [],
   "source": [
    "def convert_round_minute_to_time(datetime_in: datetime) -> datetime:\n",
    "    td = get_round_minute_diff(datetime_in)\n",
    "    return datetime_in + td"
   ]
  },
  {
   "cell_type": "markdown",
   "id": "1c986a62",
   "metadata": {},
   "source": [
    "Für die Regression-Labels, erzeugen die über <code>days_lookback</code> bis zum Fehlereintritt von 1 bis 0 abfallen. Für Klassifizierung werden die Labels im Zeitraum auf 1 gesetzt.\n",
    "<br/>\n",
    "<span style=\"color:red\">TODO: Aktuell wird im Code nicht berücksichtigt, wenn sich labels überschneiden, da das für die Gearbox nicht der Fall ist.</span>"
   ]
  },
  {
   "cell_type": "code",
   "execution_count": null,
   "id": "b106d18a",
   "metadata": {},
   "outputs": [],
   "source": [
    "days_lookback = 60\n",
    "\n",
    "def create_failure_list(days_lookback: int, value_function, target_name: str = \"Target\") -> pd.DataFrame:\n",
    "    \n",
    "    ten_mins_of_n_days = int(24 * 60 * days_lookback / 10)\n",
    "    failure_list = []\n",
    "    for i, failure in enumerate(failures_gearbox):\n",
    "        turbine_id = str(failures_gearbox[\"Turbine_ID\"][i])\n",
    "        failure_ts = str(failures_gearbox[\"Timestamp\"][i])\n",
    "        failure_datetime = datetime.fromisoformat(failure_ts)\n",
    "        rounded_datetime = convert_round_minute_to_time(failure_datetime)\n",
    "        for j in range(ten_mins_of_n_days):\n",
    "            delta = timedelta(minutes=j*10)\n",
    "            new_datetime = rounded_datetime - delta\n",
    "            datetime_formated = new_datetime.replace(tzinfo=timezone.utc)\n",
    "            failure_list.append([turbine_id, datetime_formated.isoformat(), value_function(j, ten_mins_of_n_days)])\n",
    "    \n",
    "    failure_df = pd.DataFrame(failure_list, columns=[\"Turbine_ID\", \"Timestamp\", target_name])\n",
    "\n",
    "    return failure_df\n"
   ]
  },
  {
   "cell_type": "code",
   "execution_count": null,
   "id": "4f575082",
   "metadata": {},
   "outputs": [],
   "source": [
    "reg_target_name = \"RUL (Target)\"\n",
    "class_target_name = \"Failure (Target)\"\n",
    "\n",
    "regression_function = lambda i, j: i / j\n",
    "classif_function = lambda i, j: 1\n",
    "\n",
    "failure_df_reg = create_failure_list(days_lookback, regression_function, reg_target_name)\n",
    "failure_df_class = create_failure_list(days_lookback, classif_function, class_target_name)"
   ]
  },
  {
   "cell_type": "code",
   "execution_count": null,
   "id": "e51664b8",
   "metadata": {},
   "outputs": [],
   "source": [
    "failure_df_class.head()"
   ]
  },
  {
   "cell_type": "markdown",
   "id": "47a891ba",
   "metadata": {},
   "source": [
    "Der Feature-Datensatz wird mit den Labels zusammengeführt. Dabei ist besonders wichtig, dass der Bezug zu der jeweiligen Turbine bestehen bleibt."
   ]
  },
  {
   "cell_type": "code",
   "execution_count": null,
   "id": "aaf153b7",
   "metadata": {},
   "outputs": [],
   "source": [
    "labeled_df_temp = pd.merge(merged_df.reset_index(drop=True), failure_df_reg.reset_index(drop=True), on=[\"Turbine_ID\", \"Timestamp\"], how=\"left\"); \n",
    "labeled_df = pd.merge(labeled_df_temp.reset_index(drop=True), failure_df_class.reset_index(drop=True), on=[\"Turbine_ID\", \"Timestamp\"], how=\"left\"); "
   ]
  },
  {
   "cell_type": "code",
   "execution_count": null,
   "id": "bbc37f30",
   "metadata": {},
   "outputs": [],
   "source": [
    "labeled_df[reg_target_name].fillna(1.0, inplace = True)\n",
    "labeled_df[class_target_name].fillna(0, inplace = True)"
   ]
  },
  {
   "cell_type": "code",
   "execution_count": null,
   "id": "a4e7375d",
   "metadata": {},
   "outputs": [],
   "source": [
    "labeled_df.describe()"
   ]
  },
  {
   "cell_type": "code",
   "execution_count": null,
   "id": "fe14210d",
   "metadata": {},
   "outputs": [],
   "source": [
    "plt.rcParams[\"figure.figsize\"] = (10,5)"
   ]
  },
  {
   "cell_type": "code",
   "execution_count": null,
   "id": "9279478d",
   "metadata": {},
   "outputs": [],
   "source": [
    "labeled_df[class_target_name].plot()"
   ]
  },
  {
   "cell_type": "code",
   "execution_count": null,
   "id": "a8883b1d",
   "metadata": {},
   "outputs": [],
   "source": [
    "labeled_df[reg_target_name].plot()"
   ]
  },
  {
   "cell_type": "markdown",
   "id": "2a7d6d7d",
   "metadata": {},
   "source": [
    "# Daten in Training und Test Set splitten"
   ]
  },
  {
   "cell_type": "code",
   "execution_count": null,
   "id": "06e84362",
   "metadata": {},
   "outputs": [],
   "source": [
    "# Alle Daten ab August 2017 liegen im Testset\n",
    "split_criterion_reg = labeled_df[\"Timestamp\"] >= \"2017-08-00T00:00:00+00:00\"\n",
    "\n",
    "test_gearbox = labeled_df[split_criterion_reg].sample(frac=1).reset_index(drop=True)\n",
    "train_gearbox = labeled_df[~split_criterion_reg].sample(frac=1).reset_index(drop=True)"
   ]
  },
  {
   "cell_type": "code",
   "execution_count": null,
   "id": "a1a539f2",
   "metadata": {},
   "outputs": [],
   "source": [
    "\n",
    "plt.scatter(x=test_gearbox.index, y=test_gearbox[reg_target_name])\n",
    "# train_simple_regression_gearbox.describe()"
   ]
  },
  {
   "cell_type": "markdown",
   "id": "e03f8c2b",
   "metadata": {},
   "source": [
    "# Erzeugte Daten abspeichern"
   ]
  },
  {
   "cell_type": "code",
   "execution_count": null,
   "id": "6d6bbde4",
   "metadata": {},
   "outputs": [],
   "source": [
    "import os\n",
    "os.makedirs(\"./data/first_clean\", exist_ok=True)"
   ]
  },
  {
   "cell_type": "code",
   "execution_count": null,
   "id": "e897c35f",
   "metadata": {},
   "outputs": [],
   "source": [
    "train_gearbox.to_csv(\"./data/first_clean/train_gearbox.csv\")\n",
    "test_gearbox.to_csv(\"./data/first_clean/test_gearbox.csv\")"
   ]
  }
 ],
 "metadata": {
  "kernelspec": {
   "display_name": "Python 3.9.12 ('XAI_wind')",
   "language": "python",
   "name": "python3"
  },
  "language_info": {
   "codemirror_mode": {
    "name": "ipython",
    "version": 3
   },
   "file_extension": ".py",
   "mimetype": "text/x-python",
   "name": "python",
   "nbconvert_exporter": "python",
   "pygments_lexer": "ipython3",
   "version": "3.9.12"
  },
  "vscode": {
   "interpreter": {
    "hash": "520723b62f68f94512b4b527a2129921bc4d6da9c94363ee0894f78e84b35631"
   }
  }
 },
 "nbformat": 4,
 "nbformat_minor": 5
}

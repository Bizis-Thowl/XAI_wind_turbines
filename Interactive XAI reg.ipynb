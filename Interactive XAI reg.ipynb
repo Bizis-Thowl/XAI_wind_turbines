{
 "cells": [
  {
   "cell_type": "code",
   "execution_count": 88,
   "metadata": {},
   "outputs": [],
   "source": [
    "import ipywidgets as widgets\n",
    "from ipywidgets import interact, interact_manual\n",
    "import pandas as pd\n",
    "import numpy as np\n",
    "import matplotlib.pyplot as plt\n",
    "from sklearn.tree import DecisionTreeRegressor\n",
    "from sklearn.model_selection import GridSearchCV\n",
    "from sklearn import tree\n",
    "from sklearn.tree import plot_tree"
   ]
  },
  {
   "cell_type": "code",
   "execution_count": 76,
   "metadata": {},
   "outputs": [],
   "source": [
    "train = pd.read_csv(\"./data/feature_selected/train_gearbox.csv\", sep=\",\")\n",
    "test = pd.read_csv(\"./data/feature_selected/test_gearbox.csv\", sep=\",\")"
   ]
  },
  {
   "cell_type": "code",
   "execution_count": 77,
   "metadata": {},
   "outputs": [],
   "source": [
    "reg_target_name = \"RUL (Target)\"\n",
    "class_target_name = \"Failure (Target)\"\n",
    "drop_cols = [reg_target_name, class_target_name, \"Turbine_ID\", \"Timestamp\", \"Unnamed: 0\", \"index_y\"]\n",
    "\n",
    "X_train = train.drop(columns=drop_cols)\n",
    "y_train = train[reg_target_name]\n",
    "X_test = test.drop(columns=drop_cols)\n",
    "y_test = test[reg_target_name]"
   ]
  },
  {
   "cell_type": "code",
   "execution_count": 78,
   "metadata": {},
   "outputs": [
    {
     "data": {
      "text/html": [
       "<div>\n",
       "<style scoped>\n",
       "    .dataframe tbody tr th:only-of-type {\n",
       "        vertical-align: middle;\n",
       "    }\n",
       "\n",
       "    .dataframe tbody tr th {\n",
       "        vertical-align: top;\n",
       "    }\n",
       "\n",
       "    .dataframe thead th {\n",
       "        text-align: right;\n",
       "    }\n",
       "</style>\n",
       "<table border=\"1\" class=\"dataframe\">\n",
       "  <thead>\n",
       "    <tr style=\"text-align: right;\">\n",
       "      <th></th>\n",
       "      <th>Amb_WindDir_Relative_Avg</th>\n",
       "      <th>Amb_WindDir_Abs_Avg</th>\n",
       "      <th>Prod_LatestAvg_ActPwrGen0</th>\n",
       "      <th>Blds_PitchAngle_Std</th>\n",
       "      <th>Grd_Prod_Freq_Avg</th>\n",
       "      <th>Min_Pressure</th>\n",
       "      <th>Min_Humidity</th>\n",
       "      <th>Max_Precipitation</th>\n",
       "      <th>Max_Raindetection</th>\n",
       "    </tr>\n",
       "  </thead>\n",
       "  <tbody>\n",
       "    <tr>\n",
       "      <th>0</th>\n",
       "      <td>15.0</td>\n",
       "      <td>300.4</td>\n",
       "      <td>0</td>\n",
       "      <td>0.4</td>\n",
       "      <td>50.0</td>\n",
       "      <td>1009.0</td>\n",
       "      <td>51.0</td>\n",
       "      <td>0.0</td>\n",
       "      <td>0.0</td>\n",
       "    </tr>\n",
       "    <tr>\n",
       "      <th>1</th>\n",
       "      <td>-3.4</td>\n",
       "      <td>97.7</td>\n",
       "      <td>0</td>\n",
       "      <td>0.6</td>\n",
       "      <td>50.0</td>\n",
       "      <td>1008.0</td>\n",
       "      <td>53.0</td>\n",
       "      <td>0.0</td>\n",
       "      <td>0.0</td>\n",
       "    </tr>\n",
       "    <tr>\n",
       "      <th>2</th>\n",
       "      <td>6.2</td>\n",
       "      <td>30.8</td>\n",
       "      <td>-783</td>\n",
       "      <td>11.2</td>\n",
       "      <td>50.0</td>\n",
       "      <td>1007.0</td>\n",
       "      <td>28.0</td>\n",
       "      <td>0.0</td>\n",
       "      <td>0.0</td>\n",
       "    </tr>\n",
       "    <tr>\n",
       "      <th>3</th>\n",
       "      <td>-49.1</td>\n",
       "      <td>217.8</td>\n",
       "      <td>-1316</td>\n",
       "      <td>0.1</td>\n",
       "      <td>50.0</td>\n",
       "      <td>1012.0</td>\n",
       "      <td>56.0</td>\n",
       "      <td>0.0</td>\n",
       "      <td>0.0</td>\n",
       "    </tr>\n",
       "    <tr>\n",
       "      <th>4</th>\n",
       "      <td>-21.5</td>\n",
       "      <td>82.9</td>\n",
       "      <td>-300</td>\n",
       "      <td>0.0</td>\n",
       "      <td>50.0</td>\n",
       "      <td>1018.0</td>\n",
       "      <td>65.0</td>\n",
       "      <td>0.0</td>\n",
       "      <td>0.0</td>\n",
       "    </tr>\n",
       "  </tbody>\n",
       "</table>\n",
       "</div>"
      ],
      "text/plain": [
       "   Amb_WindDir_Relative_Avg  Amb_WindDir_Abs_Avg  Prod_LatestAvg_ActPwrGen0  \\\n",
       "0                      15.0                300.4                          0   \n",
       "1                      -3.4                 97.7                          0   \n",
       "2                       6.2                 30.8                       -783   \n",
       "3                     -49.1                217.8                      -1316   \n",
       "4                     -21.5                 82.9                       -300   \n",
       "\n",
       "   Blds_PitchAngle_Std  Grd_Prod_Freq_Avg  Min_Pressure  Min_Humidity  \\\n",
       "0                  0.4               50.0        1009.0          51.0   \n",
       "1                  0.6               50.0        1008.0          53.0   \n",
       "2                 11.2               50.0        1007.0          28.0   \n",
       "3                  0.1               50.0        1012.0          56.0   \n",
       "4                  0.0               50.0        1018.0          65.0   \n",
       "\n",
       "   Max_Precipitation  Max_Raindetection  \n",
       "0                0.0                0.0  \n",
       "1                0.0                0.0  \n",
       "2                0.0                0.0  \n",
       "3                0.0                0.0  \n",
       "4                0.0                0.0  "
      ]
     },
     "execution_count": 78,
     "metadata": {},
     "output_type": "execute_result"
    }
   ],
   "source": [
    "X_train.head()"
   ]
  },
  {
   "cell_type": "code",
   "execution_count": 79,
   "metadata": {},
   "outputs": [],
   "source": [
    "def report(results, n_top=3):\n",
    "    for i in range(1, n_top + 1):\n",
    "        candidates = np.flatnonzero(results[\"rank_test_score\"] == i)\n",
    "        for candidate in candidates:\n",
    "            print(\"Model with rank: {0}\".format(i))\n",
    "            print(\n",
    "                \"Mean validation score: {0:.3f} (std: {1:.3f})\".format(\n",
    "                    results[\"mean_test_score\"][candidate],\n",
    "                    results[\"std_test_score\"][candidate],\n",
    "                )\n",
    "            )\n",
    "            print(\"Parameters: {0}\".format(results[\"params\"][candidate]))\n",
    "            print(\"\")"
   ]
  },
  {
   "cell_type": "code",
   "execution_count": 80,
   "metadata": {},
   "outputs": [
    {
     "name": "stdout",
     "output_type": "stream",
     "text": [
      "Model with rank: 1\n",
      "Mean validation score: -0.008 (std: 0.001)\n",
      "Parameters: {'max_depth': 5, 'min_samples_leaf': 100}\n",
      "\n",
      "Model with rank: 2\n",
      "Mean validation score: -0.008 (std: 0.001)\n",
      "Parameters: {'max_depth': 5, 'min_samples_leaf': 50}\n",
      "\n",
      "Model with rank: 3\n",
      "Mean validation score: -0.008 (std: 0.001)\n",
      "Parameters: {'max_depth': 10, 'min_samples_leaf': 100}\n",
      "\n"
     ]
    }
   ],
   "source": [
    "base_estimator = DecisionTreeRegressor(random_state=0)\n",
    "param_grid = {\n",
    "    \"max_depth\": [5, 10, 20],#scipy.stats.randint(5, 60),\n",
    "    \"min_samples_leaf\": [1, 10, 50, 100],#scipy.stats.randint(1, 100),\n",
    "}\n",
    "sh = GridSearchCV(base_estimator, param_grid, scoring=\"neg_mean_squared_error\").fit(X_train, y_train)\n",
    "clf = sh.best_estimator_\n",
    "report(sh.cv_results_)"
   ]
  },
  {
   "cell_type": "code",
   "execution_count": 81,
   "metadata": {},
   "outputs": [
    {
     "data": {
      "application/vnd.jupyter.widget-view+json": {
       "model_id": "c81683e3e14840d790b6b350c0fc6067",
       "version_major": 2,
       "version_minor": 0
      },
      "text/plain": [
       "interactive(children=(Dropdown(description='column', options=('Amb_WindDir_Relative_Avg', 'Amb_WindDir_Abs_Avg…"
      ]
     },
     "metadata": {},
     "output_type": "display_data"
    }
   ],
   "source": [
    "@interact_manual\n",
    "def understand_decisions(column=X_test.columns, datapoints=100):\n",
    "    sample = X_test.sample()\n",
    "    min = int(X_test[column].min())\n",
    "    max = int(X_test[column].max())\n",
    "    scaler = (max - min) / datapoints\n",
    "    predictions = []\n",
    "    for i in range(datapoints):\n",
    "        sample[column] = i * scaler + min\n",
    "        predictions.append(clf.predict(sample))\n",
    "    plt.scatter(np.arange(min, max, scaler), predictions)\n",
    "    "
   ]
  },
  {
   "cell_type": "code",
   "execution_count": 82,
   "metadata": {},
   "outputs": [
    {
     "data": {
      "text/plain": [
       "<BarContainer object of 9 artists>"
      ]
     },
     "execution_count": 82,
     "metadata": {},
     "output_type": "execute_result"
    },
    {
     "data": {
      "image/png": "[encoded data removed]",
      "text/plain": [
       "<Figure size 432x288 with 1 Axes>"
      ]
     },
     "metadata": {
      "needs_background": "light"
     },
     "output_type": "display_data"
    }
   ],
   "source": [
    "plt.xticks(rotation=90)\n",
    "plt.bar(X_test.columns, clf.feature_importances_)"
   ]
  },
  {
   "cell_type": "code",
   "execution_count": 84,
   "metadata": {},
   "outputs": [],
   "source": [
    "def plot_decision_tree(model, feature_names, class_names):\n",
    "    # plot_tree function contains a list of all nodes and leaves of the Decision tree\n",
    "    tree = plot_tree(model, feature_names = feature_names, class_names = class_names,\n",
    "                     rounded = True, proportion = True, precision = 2, filled = True, fontsize=10)\n",
    "    \n",
    "    # I return the tree for the next part\n",
    "    return tree"
   ]
  },
  {
   "cell_type": "code",
   "execution_count": 90,
   "metadata": {},
   "outputs": [],
   "source": [
    "def plot_decision_path_tree(model, X, class_names=[]):\n",
    "    fig = plt.figure(figsize=(10, 10))\n",
    "    feature_names = X.index if type(X) == type(pd.Series()) else X.columns\n",
    "    \n",
    "    # Getting the tree from the function programmed above\n",
    "    tree = plot_decision_tree(model, feature_names, class_names)\n",
    "    \n",
    "    # Get the decision path of the wanted prediction \n",
    "    decision_path = model.decision_path(X)\n",
    "\n",
    "    # Now remember the tree object contains all nodes and leaves so the logic here\n",
    "    # is to loop into the tree and change visible attribute for components that \n",
    "    # are not in the decision path\n",
    "    for i in range(0,len(tree)):\n",
    "        if i not in decision_path.indices:\n",
    "            plt.setp(tree[i],visible=False)\n",
    "\n",
    "    plt.show()"
   ]
  },
  {
   "cell_type": "code",
   "execution_count": 98,
   "metadata": {},
   "outputs": [
    {
     "data": {
      "application/vnd.jupyter.widget-view+json": {
       "model_id": "02498bcf520b42a3af9db81b67125e8e",
       "version_major": 2,
       "version_minor": 0
      },
      "text/plain": [
       "interactive(children=(Dropdown(description='column', options=('Amb_WindDir_Relative_Avg', 'Amb_WindDir_Abs_Avg…"
      ]
     },
     "metadata": {},
     "output_type": "display_data"
    }
   ],
   "source": [
    "@interact_manual\n",
    "def plot_tree_paths(column=X_test.columns, datapoint=(1, 100, 1)):\n",
    "    sample = X_test.sample()\n",
    "    min = int(X_test[column].min())\n",
    "    max = int(X_test[column].max())\n",
    "    new_value = min + (datapoint / 100) * (max - min)\n",
    "    print(\"feature: {}, with value: {}\".format(column, new_value))\n",
    "    sample[column] = new_value\n",
    "    plot_decision_path_tree(clf, sample, class_names=[\"RUL (Target)\"])"
   ]
  },
  {
   "cell_type": "code",
   "execution_count": null,
   "metadata": {},
   "outputs": [],
   "source": []
  }
 ],
 "metadata": {
  "kernelspec": {
   "display_name": "Python 3.9.12 ('XAI_wind')",
   "language": "python",
   "name": "python3"
  },
  "language_info": {
   "codemirror_mode": {
    "name": "ipython",
    "version": 3
   },
   "file_extension": ".py",
   "mimetype": "text/x-python",
   "name": "python",
   "nbconvert_exporter": "python",
   "pygments_lexer": "ipython3",
   "version": "3.9.12"
  },
  "orig_nbformat": 4,
  "vscode": {
   "interpreter": {
    "hash": "520723b62f68f94512b4b527a2129921bc4d6da9c94363ee0894f78e84b35631"
   }
  }
 },
 "nbformat": 4,
 "nbformat_minor": 2
}

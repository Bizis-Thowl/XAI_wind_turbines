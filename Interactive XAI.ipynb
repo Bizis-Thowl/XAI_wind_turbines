{
 "cells": [
  {
   "cell_type": "code",
   "execution_count": null,
   "metadata": {},
   "outputs": [],
   "source": [
    "import ipywidgets as widgets\n",
    "from ipywidgets import interact, interact_manual\n",
    "import pandas as pd\n",
    "import numpy as np\n",
    "import matplotlib.pyplot as plt\n",
    "from sklearn.tree import DecisionTreeClassifier\n",
    "from sklearn.model_selection import GridSearchCV\n",
    "from sklearn import tree\n",
    "from sklearn.tree import plot_tree"
   ]
  },
  {
   "cell_type": "code",
   "execution_count": null,
   "metadata": {},
   "outputs": [],
   "source": [
    "train = pd.read_csv(\"./data/feature_selected/train_gearbox_classif.csv\", sep=\",\")\n",
    "test = pd.read_csv(\"./data/feature_selected/test_gearbox_classif.csv\", sep=\",\")"
   ]
  },
  {
   "cell_type": "code",
   "execution_count": null,
   "metadata": {},
   "outputs": [],
   "source": [
    "reg_target_name = \"RUL (Target)\"\n",
    "class_target_name = \"Failure (Target)\"\n",
    "drop_cols = [reg_target_name, class_target_name, \"Turbine_ID\", \"Timestamp\", \"Unnamed: 0\", \"index_y\"]\n",
    "\n",
    "X_train = train.drop(columns=drop_cols)\n",
    "y_train = train[class_target_name]\n",
    "X_test = test.drop(columns=drop_cols)\n",
    "y_test = test[class_target_name]"
   ]
  },
  {
   "cell_type": "code",
   "execution_count": null,
   "metadata": {},
   "outputs": [],
   "source": [
    "X_train.head()"
   ]
  },
  {
   "cell_type": "code",
   "execution_count": null,
   "metadata": {},
   "outputs": [],
   "source": [
    "def report(results, n_top=3):\n",
    "    for i in range(1, n_top + 1):\n",
    "        candidates = np.flatnonzero(results[\"rank_test_score\"] == i)\n",
    "        for candidate in candidates:\n",
    "            print(\"Model with rank: {0}\".format(i))\n",
    "            print(\n",
    "                \"Mean validation score: {0:.3f} (std: {1:.3f})\".format(\n",
    "                    results[\"mean_test_score\"][candidate],\n",
    "                    results[\"std_test_score\"][candidate],\n",
    "                )\n",
    "            )\n",
    "            print(\"Parameters: {0}\".format(results[\"params\"][candidate]))\n",
    "            print(\"\")"
   ]
  },
  {
   "cell_type": "code",
   "execution_count": null,
   "metadata": {},
   "outputs": [],
   "source": [
    "base_estimator = DecisionTreeClassifier(random_state=0)\n",
    "param_grid = {\n",
    "    \"max_depth\": [5, 10, 20],#scipy.stats.randint(5, 60),\n",
    "    \"min_samples_leaf\": [1, 10, 50, 100],#scipy.stats.randint(1, 100),\n",
    "}\n",
    "sh = GridSearchCV(base_estimator, param_grid, scoring=\"neg_mean_squared_error\").fit(X_train, y_train)\n",
    "clf = sh.best_estimator_\n",
    "report(sh.cv_results_)"
   ]
  },
  {
   "cell_type": "code",
   "execution_count": null,
   "metadata": {},
   "outputs": [],
   "source": [
    "plt.xticks(rotation=90)\n",
    "plt.bar(X_test.columns, clf.feature_importances_)"
   ]
  },
  {
   "cell_type": "code",
   "execution_count": null,
   "metadata": {},
   "outputs": [],
   "source": [
    "@interact_manual\n",
    "def understand_decisions(column=X_test.columns, datapoints=100):\n",
    "    sample = X_test.sample()\n",
    "    min = int(X_test[column].min())\n",
    "    max = int(X_test[column].max())\n",
    "    scaler = (max - min) / datapoints\n",
    "    predictions = []\n",
    "    for i in range(datapoints):\n",
    "        sample[column] = i * scaler + min\n",
    "        predictions.append(clf.predict(sample))\n",
    "    plt.scatter(np.arange(min, max, scaler), predictions)\n",
    "    "
   ]
  },
  {
   "cell_type": "code",
   "execution_count": null,
   "metadata": {},
   "outputs": [],
   "source": [
    "def plot_decision_tree(model, feature_names, class_names):\n",
    "    # plot_tree function contains a list of all nodes and leaves of the Decision tree\n",
    "    tree = plot_tree(model, feature_names = feature_names, class_names = class_names,\n",
    "                     rounded = True, proportion = True, precision = 2, filled = True, fontsize=10)\n",
    "    \n",
    "    # I return the tree for the next part\n",
    "    return tree"
   ]
  },
  {
   "cell_type": "code",
   "execution_count": null,
   "metadata": {},
   "outputs": [],
   "source": [
    "def plot_decision_path_tree(model, X, class_names=[]):\n",
    "    fig = plt.figure(figsize=(10, 10))\n",
    "    feature_names = X.index if type(X) == type(pd.Series()) else X.columns\n",
    "    \n",
    "    # Getting the tree from the function programmed above\n",
    "    tree = plot_decision_tree(model, feature_names, class_names)\n",
    "    \n",
    "    # Get the decision path of the wanted prediction \n",
    "    decision_path = model.decision_path(X)\n",
    "\n",
    "    # Now remember the tree object contains all nodes and leaves so the logic here\n",
    "    # is to loop into the tree and change visible attribute for components that \n",
    "    # are not in the decision path\n",
    "    for i in range(0,len(tree)):\n",
    "        if i not in decision_path.indices:\n",
    "            plt.setp(tree[i],visible=False)\n",
    "\n",
    "    plt.show()"
   ]
  },
  {
   "cell_type": "code",
   "execution_count": null,
   "metadata": {},
   "outputs": [],
   "source": [
    "@interact_manual\n",
    "def plot_tree_paths(column=X_test.columns, datapoint=(1, 100, 1)):\n",
    "    sample = X_test.sample()\n",
    "    min = int(X_test[column].min())\n",
    "    max = int(X_test[column].max())\n",
    "    new_value = min + (datapoint / 100) * (max - min)\n",
    "    print(\"feature: {}, with value: {}\".format(column, new_value))\n",
    "    sample[column] = new_value\n",
    "    plot_decision_path_tree(clf, sample, class_names=[\"RUL (Target)\"])"
   ]
  },
  {
   "cell_type": "code",
   "execution_count": null,
   "metadata": {},
   "outputs": [],
   "source": []
  }
 ],
 "metadata": {
  "kernelspec": {
   "display_name": "Python 3.9.12 ('XAI_wind')",
   "language": "python",
   "name": "python3"
  },
  "language_info": {
   "codemirror_mode": {
    "name": "ipython",
    "version": 3
   },
   "file_extension": ".py",
   "mimetype": "text/x-python",
   "name": "python",
   "nbconvert_exporter": "python",
   "pygments_lexer": "ipython3",
   "version": "3.9.12"
  },
  "orig_nbformat": 4,
  "vscode": {
   "interpreter": {
    "hash": "520723b62f68f94512b4b527a2129921bc4d6da9c94363ee0894f78e84b35631"
   }
  }
 },
 "nbformat": 4,
 "nbformat_minor": 2
}

{
 "cells": [
  {
   "cell_type": "code",
   "execution_count": 1,
   "metadata": {},
   "outputs": [],
   "source": [
    "import math\n",
    "import pandas as pd\n",
    "import numpy as np\n",
    "from sklearn.tree import DecisionTreeRegressor\n",
    "from sklearn.inspection import permutation_importance\n",
    "from matplotlib import pyplot as plt\n",
    "from pandas import DataFrame\n",
    "from sklearn.metrics import mean_absolute_error, median_absolute_error, r2_score"
   ]
  },
  {
   "cell_type": "code",
   "execution_count": 2,
   "metadata": {},
   "outputs": [],
   "source": [
    "train = pd.read_csv(\"./data/feature_selected/train_gearbox.csv\", sep=\",\")\n",
    "test = pd.read_csv(\"./data/feature_selected/test_gearbox.csv\", sep=\",\")"
   ]
  },
  {
   "cell_type": "code",
   "execution_count": 3,
   "metadata": {},
   "outputs": [],
   "source": [
    "reg_target_name = \"RUL (Target)\"\n",
    "class_target_name = \"Failure (Target)\"\n",
    "drop_cols = [reg_target_name, class_target_name, \"Turbine_ID\", \"Timestamp\", \"Unnamed: 0\", \"index_y\"]\n",
    "\n",
    "fill_method=\"ffill\"\n",
    "\n",
    "filled_train = train.fillna(method=fill_method).sample(frac=0.1)\n",
    "filled_test = test.fillna(method=fill_method).sample(frac=1)\n",
    "\n",
    "X_train = filled_train.drop(columns=drop_cols)\n",
    "y_train = filled_train[reg_target_name]\n",
    "X_test = filled_test.drop(columns=drop_cols)\n",
    "y_test = filled_test[reg_target_name]"
   ]
  },
  {
   "cell_type": "code",
   "execution_count": 4,
   "metadata": {},
   "outputs": [],
   "source": [
    "configuration = {\n",
    "    \"max_depth\": 20, \n",
    "    \"min_samples_leaf\":100,\n",
    "    \"random_state\":0\n",
    "}"
   ]
  },
  {
   "cell_type": "code",
   "execution_count": 5,
   "metadata": {},
   "outputs": [],
   "source": [
    "def feature_importance_gini_importance(data_x:DataFrame, data_y: DataFrame):\n",
    "    rf = DecisionTreeRegressor()\n",
    "    rf.fit(data_x, data_y)\n",
    "    fiArr = rf.feature_importances_\n",
    "    fiArr = normalize(fiArr)\n",
    "    names = data_x.columns.array\n",
    "    fi = {}\n",
    "    for i in range(len(names)):\n",
    "        fi[names[i]] = fiArr[i]\n",
    "    return fi\n",
    "\n",
    "def feature_importance_permutation_based_importance(data_x:DataFrame, data_y:DataFrame):\n",
    "    rf = DecisionTreeRegressor()\n",
    "    rf.fit(data_x, data_y)\n",
    "    fiArr = permutation_importance(rf, data_x, data_y)[\"importances_mean\"]\n",
    "    fiArr = normalize(fiArr)\n",
    "    names = data_x.columns.array    \n",
    "    fi = {}\n",
    "    for i in range(len(names)):\n",
    "        fi[names[i]] = fiArr[i]\n",
    "    return fi\n",
    "\n",
    "def get_unimportant_features(fi: dict[str, dict], threshold: float, names: dict[str]):\n",
    "    methods = [\"gi\", \"pbi\"]        \n",
    "    cols_to_drop = []\n",
    "    for feature in names:\n",
    "        if((not fi[\"gi\"][feature]>threshold) | (not fi[\"pbi\"][feature]>threshold)):\n",
    "            cols_to_drop.append(feature)\n",
    "    return cols_to_drop\n",
    "\n",
    "def normalize(values: list):\n",
    "    highestValue = 0\n",
    "    for value in values:\n",
    "        if(value>highestValue):\n",
    "            highestValue=value\n",
    "    for value in values:\n",
    "        value=value/highestValue\n",
    "    return values\n",
    "\n",
    "fi = {\n",
    "    \"gi\": feature_importance_gini_importance(X_train,y_train),\n",
    "    \"pbi\": feature_importance_permutation_based_importance(X_train, y_train)\n",
    "}\n"
   ]
  },
  {
   "cell_type": "code",
   "execution_count": 6,
   "metadata": {},
   "outputs": [],
   "source": [
    "drop_cols_high = get_unimportant_features(fi, 0.10, X_train.columns.array)\n",
    "drop_cols_medium = get_unimportant_features(fi, 0.05, X_train.columns.array)\n",
    "drop_cols_low = get_unimportant_features(fi, 0.01, X_train.columns.array)\n",
    "\n",
    "x_train={}\n",
    "x_test={}\n",
    "\n",
    "x_train[\"high_drop\"] = X_train.drop(columns = drop_cols_high)\n",
    "x_test[\"high_drop\"] = X_test.drop(columns = drop_cols_high)\n",
    "x_train[\"medium_drop\"] = X_train.drop(columns = drop_cols_medium)\n",
    "x_test[\"medium_drop\"] = X_test.drop(columns = drop_cols_medium)\n",
    "x_train[\"low_drop\"] = X_train.drop(columns = drop_cols_low)\n",
    "x_test[\"low_drop\"] = X_test.drop(columns = drop_cols_low)\n",
    "x_train[\"no_drop\"] = X_train\n",
    "x_test[\"no_drop\"] = X_test"
   ]
  },
  {
   "cell_type": "code",
   "execution_count": 7,
   "metadata": {},
   "outputs": [
    {
     "name": "stdout",
     "output_type": "stream",
     "text": [
      "Mean Absolute Error:\n",
      "{'medium_drop': 0.06502440594501455, 'high_drop': 0.05963964540974167, 'low_drop': 0.06649980982995893, 'no_drop': 0.06708901974398859}\n",
      "R2 Score:\n",
      "{'medium_drop': -0.41428430154780704, 'high_drop': -0.30398012547763487, 'low_drop': -0.434008216414856, 'no_drop': -0.4617962263129638}\n"
     ]
    }
   ],
   "source": [
    "def get_eval_scores(inputs_train:DataFrame, targets_train:DataFrame, inputs_test:DataFrame, targets_test:DataFrame):\n",
    "    dtr = DecisionTreeRegressor()\n",
    "    dtr.fit(inputs_train, targets_train)\n",
    "    eval_predict = dtr.predict(inputs_test)\n",
    "    mae = mean_absolute_error(targets_test, eval_predict)\n",
    "    r2 = r2_score(targets_test, eval_predict)\n",
    "    return mae, r2\n",
    "\n",
    "eval_items = {\"no_drop\", \"low_drop\", \"medium_drop\", \"high_drop\"}\n",
    "mae = {}\n",
    "r2 = {}\n",
    "for item in eval_items:\n",
    "    mae[item], r2[item] = get_eval_scores(x_train[item], y_train, x_test[item], y_test)\n",
    "print(\"Mean Absolute Error:\")\n",
    "print(mae)\n",
    "print(\"R2 Score:\")\n",
    "print(r2)\n"
   ]
  }
 ],
 "metadata": {
  "kernelspec": {
   "display_name": "base",
   "language": "python",
   "name": "python3"
  },
  "language_info": {
   "codemirror_mode": {
    "name": "ipython",
    "version": 3
   },
   "file_extension": ".py",
   "mimetype": "text/x-python",
   "name": "python",
   "nbconvert_exporter": "python",
   "pygments_lexer": "ipython3",
   "version": "3.9.15 (main, Nov 24 2022, 14:39:17) [MSC v.1916 64 bit (AMD64)]"
  },
  "orig_nbformat": 4,
  "vscode": {
   "interpreter": {
    "hash": "a561ff09736c45ea8c4c6a2f2879bc77e5e64e20329dfa0346a65d0599b7f690"
   }
  }
 },
 "nbformat": 4,
 "nbformat_minor": 2
}

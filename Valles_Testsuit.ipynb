{
 "cells": [
  {
   "cell_type": "code",
   "execution_count": null,
   "metadata": {},
   "outputs": [],
   "source": [
    "import pandas as pd\n",
    "import numpy as np\n",
    "import matplotlib.pyplot as plt\n",
    "from sklearn.model_selection import train_test_split, KFold\n",
    "from sklearn.feature_selection import VarianceThreshold, mutual_info_regression\n",
    "from sklearn.preprocessing import LabelEncoder\n",
    "from sklearn.tree import DecisionTreeRegressor\n",
    "from sklearn.metrics import mean_squared_error\n",
    "from sklearn import tree"
   ]
  },
  {
   "cell_type": "code",
   "execution_count": null,
   "metadata": {},
   "outputs": [],
   "source": [
    "train = pd.read_csv(\"./data/first_clean/train_simple_regression_gearbox.csv\", sep=\",\")\n",
    "test = pd.read_csv(\"./data/first_clean/test_simple_regression_gearbox.csv\", sep=\",\")"
   ]
  },
  {
   "cell_type": "code",
   "execution_count": null,
   "metadata": {},
   "outputs": [],
   "source": [
    "train.head()"
   ]
  },
  {
   "cell_type": "code",
   "execution_count": null,
   "metadata": {},
   "outputs": [],
   "source": [
    "X_train = train.drop(columns=[\"RUL (Target)\", \"Turbine_ID\", \"Timestamp\"])\n",
    "y_train = train[\"RUL (Target)\"]\n",
    "X_test = test.drop(columns=[\"RUL (Target)\", \"Turbine_ID\", \"Timestamp\"])\n",
    "y_test = test[\"RUL (Target)\"]"
   ]
  },
  {
   "cell_type": "code",
   "execution_count": null,
   "metadata": {},
   "outputs": [],
   "source": [
    "def get_redundant_pairs(X_train):\n",
    "    '''Get diagonal and lower triangular pairs of correlation matrix'''\n",
    "    pairs_to_drop = set()\n",
    "    cols = X_train.columns\n",
    "    for i in range(0, X_train.shape[1]):\n",
    "        for j in range(0, i+1):\n",
    "            pairs_to_drop.add((cols[i], cols[j]))\n",
    "    return pairs_to_drop\n",
    "\n",
    "def get_top_abs_correlations(X_train, threshold=0.5):\n",
    "    au_corr = X_train.corr().abs().unstack()\n",
    "    labels_to_drop = get_redundant_pairs(X_train)\n",
    "    au_corr = au_corr.drop(labels=labels_to_drop).sort_values(ascending=False)\n",
    "    return au_corr[au_corr > threshold]\n",
    "\n",
    "def get_indexes_to_drop(corr_df, X_train, y_train):\n",
    "\n",
    "    indexes_to_drop = set()\n",
    "\n",
    "    for row in corr_df.index:\n",
    "        if (X_train[row[0]].corr(y_train)) > (X_train[row[1]].corr(y_train)):\n",
    "            indexes_to_drop.add(row[1])\n",
    "        else:\n",
    "            indexes_to_drop.add(row[0])\n",
    "    \n",
    "    return indexes_to_drop\n",
    "\n",
    "def corr_filter(X_train, y_train, threshold=0.5):\n",
    "    corr_df = get_top_abs_correlations(X_train, threshold)\n",
    "    indexes_to_drop = get_indexes_to_drop(corr_df, X_train, y_train)\n",
    "    remaining_df = X_train.drop(labels=indexes_to_drop, axis=1)\n",
    "    return remaining_df"
   ]
  },
  {
   "cell_type": "code",
   "execution_count": null,
   "metadata": {},
   "outputs": [],
   "source": [
    "def mutual_info(X_train, y_train, num_cols=4):\n",
    "    mutual_info = mutual_info_regression(X_train, y_train)\n",
    "    order = np.argsort(mutual_info)\n",
    "    sorted_cols = np.array(X_train.columns)[order[::-1]]\n",
    "    cutted_cols = sorted_cols[0:num_cols]\n",
    "    return X_train[cutted_cols]"
   ]
  },
  {
   "cell_type": "code",
   "execution_count": null,
   "metadata": {},
   "outputs": [],
   "source": [
    "# Hyperparams for grid search\n",
    "corr_filter_thresholds = [0.8, 0.9]#[0.5, 0.6, 0.7, 0.8, 0.9]\n",
    "mutual_info_cols = [80, 90]#[10, 20, 30, 40, 50, 60, 70, 80, 90]\n",
    "\n",
    "X_compounded = {\n",
    "    \"baseline\": [X_train],\n",
    "    \"corr_filter\": [],\n",
    "    \"mutual_info\": [],\n",
    "}\n",
    "# Create correlation filter datasets\n",
    "X_train_corr_filters = []\n",
    "for threshold in corr_filter_thresholds:\n",
    "    X_train_corr_filters.append(corr_filter(X_train, y_train, threshold=threshold))\n",
    "\n",
    "X_compounded[\"corr_filter\"] = X_train_corr_filters\n",
    "\n",
    "# Create mutual information datasets\n",
    "X_train_mutuals = []\n",
    "for num_cols in mutual_info_cols:\n",
    "    X_train_mutuals.append(mutual_info(X_train, y_train, num_cols=num_cols))\n",
    "\n",
    "X_compounded[\"mutual_info\"] = X_train_mutuals"
   ]
  },
  {
   "cell_type": "code",
   "execution_count": null,
   "metadata": {},
   "outputs": [],
   "source": [
    "def train_run(X, y, n_splits=5):\n",
    "\n",
    "    skf = KFold(n_splits=n_splits)\n",
    "    mses = []\n",
    "    clfs = []\n",
    "\n",
    "    for train_index, test_index in skf.split(X, y):\n",
    "        X_train, X_test = np.array(X)[train_index], np.array(X)[test_index]\n",
    "        y_train, y_test = np.array(y)[train_index], np.array(y)[test_index]\n",
    "\n",
    "        clf = DecisionTreeRegressor(random_state=10)\n",
    "        clf.fit(X_train, y_train)\n",
    "        y_test_pred = clf.predict(X_test)\n",
    "        clfs.append(clf)\n",
    "        mses.append(mean_squared_error(y_test, y_test_pred))\n",
    "        print(mses)\n",
    "\n",
    "    return np.mean(mses), clfs\n"
   ]
  },
  {
   "cell_type": "code",
   "execution_count": null,
   "metadata": {},
   "outputs": [],
   "source": [
    "def train_runs(X_compound, y_train):\n",
    "    \n",
    "    best_scores = []\n",
    "\n",
    "    for fe_type in X_compound:\n",
    "        best_score = 0\n",
    "        best_config = None\n",
    "        for i, dataset in enumerate(X_compound[fe_type]):\n",
    "            mse, clfs = train_run(dataset, y_train)\n",
    "            if best_score < mse:\n",
    "                best_score = mse\n",
    "                best_config = i\n",
    "        best_scores.append({fe_type: {\"best_config\": best_config, \"score\": best_score, \"clfs\": clfs}})\n",
    "    \n",
    "    return best_scores"
   ]
  },
  {
   "cell_type": "code",
   "execution_count": null,
   "metadata": {},
   "outputs": [],
   "source": [
    "best_scores = train_runs(X_compounded, y_train)"
   ]
  },
  {
   "cell_type": "code",
   "execution_count": null,
   "metadata": {},
   "outputs": [],
   "source": [
    "import pygraphviz as graphviz"
   ]
  },
  {
   "cell_type": "code",
   "execution_count": null,
   "metadata": {},
   "outputs": [],
   "source": [
    "some_tree = best_scores[0][\"baseline\"][\"clfs\"][0]\n",
    "dot_data = tree.plot_tree(some_tree)"
   ]
  }
 ],
 "metadata": {
  "kernelspec": {
   "display_name": "Python 3.9.12 ('XAI_wind')",
   "language": "python",
   "name": "python3"
  },
  "language_info": {
   "codemirror_mode": {
    "name": "ipython",
    "version": 3
   },
   "file_extension": ".py",
   "mimetype": "text/x-python",
   "name": "python",
   "nbconvert_exporter": "python",
   "pygments_lexer": "ipython3",
   "version": "3.9.12"
  },
  "orig_nbformat": 4,
  "vscode": {
   "interpreter": {
    "hash": "520723b62f68f94512b4b527a2129921bc4d6da9c94363ee0894f78e84b35631"
   }
  }
 },
 "nbformat": 4,
 "nbformat_minor": 2
}
